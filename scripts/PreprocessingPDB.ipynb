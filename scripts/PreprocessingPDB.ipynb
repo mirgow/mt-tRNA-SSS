{
 "cells": [
  {
   "cell_type": "markdown",
   "metadata": {},
   "source": [
    "Notebook for creating the initial models of the mt-tRNA, particularly for the mt-tRNAs that don't have available 3D structures.\n",
    "\n",
    "### This notebook is step 1 of the process!\n",
    "\n",
    "By: Mihir G"
   ]
  },
  {
   "cell_type": "code",
   "execution_count": null,
   "metadata": {},
   "outputs": [],
   "source": []
  },
  {
   "cell_type": "markdown",
   "metadata": {},
   "source": [
    "#### RNA Sequence\n",
    "\n",
    "Below are the primary structure of the mt-tRNAs (excluding Met), which are necessary to develop the base pair sequence files later on.\n"
   ]
  },
  {
   "cell_type": "code",
   "execution_count": null,
   "metadata": {},
   "outputs": [],
   "source": [
    "seqlys = 'CACUGUAAAGCUAACUUAGCAUUAACCUUUUAAGUUAAAGAUUAAGAGAACCAACACCUCUUUACAGUGA' # lys\n",
    "seqlysM = 'CACUGUAAAGCUAACUUAGCAUUAACCUUUUAAGUUAAAGAUUAAGAGAGCCAACACCUCUUUACAGUGA' # lys mutated\n",
    "seqleu = 'GUUAAGAUGGCAGAGCCCGGUAAUCGCAUAAAACUUAAAACUUUACAGUCAGAGGUUCAAUUCCUCUUCUUAACA' # leu(uur)\n",
    "seqleuM = 'GUUAAGAUGGCAGGGCCCGGUAAUCGCAUAAAACUUAAAACUUUACAGUCAGAGGUUCAAUUCCUCUUCUUAACA' # leu(uur) mutated\n",
    "seqval = 'CAGAGUGUAGCUUAACACAAAGCACCCAACUUACACUUAGGAGAUUUCAACUUAACUUGACCGCUCUGA' # val\n",
    "seqmet = 'AGUAAGGUCAGCUAAAUAAGCUAUCGGGCCCAUACCCCGAAAAUGUUGGUUAUACCCUUCCCGUACUA' # met\n",
    "\n",
    "lconv = {}\n",
    "lconv['A'] = 1\n",
    "lconv['C'] = 2\n",
    "lconv['G'] = 3\n",
    "lconv['U'] = 4\n",
    "\n",
    "seqlyslist = [lconv[i] for i in seqlys]\n",
    "seqlysMlist = [lconv[i] for i in seqlysM]\n",
    "seqleulist = [lconv[i] for i in seqleu]\n",
    "seqleuMlist = [lconv[i] for i in seqleuM]\n",
    "seqvallist = [lconv[i] for i in seqval]"
   ]
  },
  {
   "cell_type": "markdown",
   "metadata": {},
   "source": [
    "#### bpseq and ct formats\n",
    "\n",
    "In the lists below, the index of the base that is Watson-Crick bonded is indicated. For example, with mt-tRNA_{Lys}, it starts as [69, 68, ..], meaning the first base, 'C' is bonded with the 69th base. 0's indicate no bond.\n"
   ]
  },
  {
   "cell_type": "code",
   "execution_count": null,
   "metadata": {},
   "outputs": [],
   "source": [
    "# these bonds don't include non-canonical base pairs (ie, if there's a supposed non-watson-crick bond, it's not included)\n",
    "lysbond = [69, 68, 67, 66, 65, 64, 63, 0, 0, 20, 19, 18, 17, 0, 0, 0, 13, 12, 11, 10, 0, 38, 37, 36, 35, 34, 0, 0, 0, 0, 0, 0, 0, 26, 25, 24, 23, 22, 0, 0, 0, 0, 0, 62, 61, 60, 59, 58, 0, 0, 0, 0, 0, 0, 0, 0, 0, 48, 47, 46, 45, 44, 7, 6, 5, 4, 3, 2, 1, 0]\n",
    "leubond = [74, 73, 72, 71, 70, 69, 68, 0, 0, 27, 26, 0, 0, 0, 0, 0, 0, 0, 0, 0, 0, 0, 0, 0, 0, 11, 10, 0, 45, 44, 43, 42, 0, 0, 0, 0, 0, 0, 0, 0, 0, 32, 31, 30, 29, 0, 0, 0, 0, 0, 67, 66, 65, 64, 63, 0, 0, 0, 0, 0, 0, 0, 55, 54, 53, 52, 51, 7, 6, 5, 4, 3, 2, 1, 0]\n",
    "valbond = [68, 67, 66, 65, 64, 63, 62, 0, 0, 23, 22, 21, 20, 0, 0, 0, 0, 0, 0, 13, 12, 11, 10, 0, 41, 40, 0, 38, 37, 0, 0, 0, 0, 0, 0, 0, 29, 28, 0, 26, 25, 0, 0, 0, 0, 0, 60, 59, 58, 57, 0, 0, 0, 0, 0, 0, 50, 49, 48, 47, 0, 7, 6, 5, 4, 3, 2, 1, 0]\n",
    "\n",
    "# due to mutations in both leu and lys being in non-stem regions, no watson-crick bp is missing.\n",
    "# hence, base pair sequence and bonding are the same, canonically.\n",
    "leubond_M = leubond\n",
    "lysbond_M = lysbond"
   ]
  },
  {
   "cell_type": "markdown",
   "metadata": {},
   "source": [
    "The function below prints out the base pair sequence, in a format to paste into files for. The files are already made in the directory. \n"
   ]
  },
  {
   "cell_type": "code",
   "execution_count": null,
   "metadata": {},
   "outputs": [],
   "source": [
    "def bpseqout(seq, bonds):\n",
    "    \"\"\"\n",
    "    Takes in a sequence of RNA and the bases with which it has watson-crick bonds.\n",
    "    seq: string, RNA sequence.\n",
    "    bonds: list of ints, list of base indices that a given base bonds with.\n",
    "    \"\"\"\n",
    "    for i in range(len(seq)):\n",
    "        print(f\"{i+1} {seq[i]} {bonds[i]}\")"
   ]
  },
  {
   "cell_type": "code",
   "execution_count": null,
   "metadata": {},
   "outputs": [],
   "source": [
    "# Example run highlighted\n",
    "# bpseqout(seqleu, leubond)\n",
    "\n"
   ]
  },
  {
   "cell_type": "markdown",
   "metadata": {},
   "source": [
    "#### Remove Hydrogen Atoms from the Files\n",
    "Necessary step for running through the SMOG webtool, this allows the file to be parameterized.\n",
    "\n",
    "Note: all the mt-tRNA files have been either extracted from larger PDB structures, or generated computationally. "
   ]
  },
  {
   "cell_type": "code",
   "execution_count": null,
   "metadata": {},
   "outputs": [],
   "source": [
    "!grep -v H lys.pdb > lys_noH.pdb"
   ]
  },
  {
   "cell_type": "markdown",
   "metadata": {},
   "source": [
    "#### Run through SMOG\n",
    "\n",
    "Follow this site to input the structure: https://smog-server.org/cgi-bin/GenTopGro.pl\n",
    "\n",
    "Specfications (outside of default):\n",
    "- Contact map: *cut-off*\n",
    "\n",
    "The return should be a .tar.gz file.\n",
    "\n",
    "#### Post-SMOG processing with GROMACS\n",
    "\n",
    "Open the .tar.gz file"
   ]
  },
  {
   "cell_type": "code",
   "execution_count": 1,
   "metadata": {},
   "outputs": [
    {
     "name": "stdout",
     "output_type": "stream",
     "text": [
      "tar: {filename}: Cannot open: No such file or directory\r\n",
      "tar: Error is not recoverable: exiting now\r\n"
     ]
    }
   ],
   "source": [
    "!tar -xf {filename}"
   ]
  },
  {
   "cell_type": "markdown",
   "metadata": {},
   "source": [
    "The new folder should contain a new pdb file to conduct simulations on for step (notebook) 3"
   ]
  },
  {
   "cell_type": "code",
   "execution_count": null,
   "metadata": {},
   "outputs": [],
   "source": []
  }
 ],
 "metadata": {
  "kernelspec": {
   "display_name": "Python 3",
   "language": "python",
   "name": "python3"
  },
  "language_info": {
   "codemirror_mode": {
    "name": "ipython",
    "version": 3
   },
   "file_extension": ".py",
   "mimetype": "text/x-python",
   "name": "python",
   "nbconvert_exporter": "python",
   "pygments_lexer": "ipython3",
   "version": "3.8.3"
  },
  "vscode": {
   "interpreter": {
    "hash": "2b95e85a24b0b365e7533f2dfeb7eba2f3bd48bca0ef362fd8138d0e55e373d5"
   }
  }
 },
 "nbformat": 4,
 "nbformat_minor": 4
}
