{
 "cells": [
  {
   "cell_type": "markdown",
   "metadata": {},
   "source": [
    "Notebook for preprocessing the mt-tRNA PDB files for running in GROMACS. \n",
    "\n",
    "Works with  files. \n",
    "\n",
    "By: Mihir Gowda"
   ]
  },
  {
   "cell_type": "markdown",
   "metadata": {},
   "source": [
    "#### Remove Hydrogen Atoms from the Files\n",
    "Necessary step for running through the SMOG webtool, this allows the file to be parameterized.\n",
    "\n",
    "Note: all the mt-tRNA files have been either extracted from larger PDB structures, or generated computationally. "
   ]
  },
  {
   "cell_type": "code",
   "execution_count": null,
   "metadata": {},
   "outputs": [],
   "source": [
    "!grep -v H lys.pdb > lys_noH.pdb"
   ]
  },
  {
   "cell_type": "markdown",
   "metadata": {},
   "source": [
    "#### Run through SMOG\n",
    "\n",
    "Follow this site to input the structure: https://smog-server.org/cgi-bin/GenTopGro.pl\n",
    "\n",
    "Specfications (outside of default):\n",
    "- Contact map: *cut-off*\n",
    "\n",
    "The return should be a .tar.gz file.\n",
    "\n",
    "#### Post-SMOG processing with GROMACS\n",
    "\n",
    "Open the .tar.gz file"
   ]
  },
  {
   "cell_type": "code",
   "execution_count": 1,
   "metadata": {},
   "outputs": [
    {
     "name": "stdout",
     "output_type": "stream",
     "text": [
      "tar: {filename}: Cannot open: No such file or directory\r\n",
      "tar: Error is not recoverable: exiting now\r\n"
     ]
    }
   ],
   "source": [
    "!tar -xf {filename}"
   ]
  },
  {
   "cell_type": "code",
   "execution_count": null,
   "metadata": {},
   "outputs": [],
   "source": []
  }
 ],
 "metadata": {
  "kernelspec": {
   "display_name": "Python 3",
   "language": "python",
   "name": "python3"
  },
  "language_info": {
   "codemirror_mode": {
    "name": "ipython",
    "version": 3
   },
   "file_extension": ".py",
   "mimetype": "text/x-python",
   "name": "python",
   "nbconvert_exporter": "python",
   "pygments_lexer": "ipython3",
   "version": "3.8.3"
  }
 },
 "nbformat": 4,
 "nbformat_minor": 4
}
