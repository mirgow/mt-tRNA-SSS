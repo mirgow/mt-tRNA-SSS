{
 "cells": [
  {
   "cell_type": "markdown",
   "metadata": {},
   "source": [
    "Notebook with command line executions for running both the LAMMPS branched polymer and GROMACS mt-tRNA simulations. \n",
    "\n",
    "All commands can also be used in the command line.\n",
    "\n",
    "By: Mihir Gowda\n",
    "\n"
   ]
  },
  {
   "cell_type": "markdown",
   "metadata": {},
   "source": [
    "# Branched Polymers and LAMMPS"
   ]
  },
  {
   "cell_type": "code",
   "execution_count": null,
   "metadata": {},
   "outputs": [],
   "source": [
    "# ONLY IF openMPI has been installed for parallel thread processing\n",
    "# Use mpiexec over mpirun due to it being a standardized protocol\n",
    "!env OMP_NUM_THREADS=2 mpiexec -np 2 lmp -sf omp -in branchedpolymer.lam"
   ]
  },
  {
   "cell_type": "code",
   "execution_count": null,
   "metadata": {},
   "outputs": [],
   "source": [
    "# OTHERWISE if openMP is possible with the LAMMPS build\n",
    "# OpenMP threading:\n",
    "!env OMP_NUM_THREADS=2 lmp -sf omp -in branchedpolymer.lam"
   ]
  },
  {
   "cell_type": "code",
   "execution_count": 2,
   "metadata": {},
   "outputs": [
    {
     "name": "stdout",
     "output_type": "stream",
     "text": [
      "ERROR on proc 0: Cannot open input script branchedpolymer{shape}.lam: No such file or directory (src/lammps.cpp:519)\n",
      "Last command: (unknown)\n",
      "--------------------------------------------------------------------------\n",
      "MPI_ABORT was invoked on rank 0 in communicator MPI_COMM_WORLD\n",
      "with errorcode 1.\n",
      "\n",
      "NOTE: invoking MPI_ABORT causes Open MPI to kill all MPI processes.\n",
      "You may or may not see output from other processes, depending on\n",
      "exactly when Open MPI kills them.\n",
      "--------------------------------------------------------------------------\n"
     ]
    }
   ],
   "source": [
    "# OTHERWISE if neither openMP or openMPI are accessible\n",
    "!lmp -in branchedpolymer{shape}.lam"
   ]
  },
  {
   "cell_type": "markdown",
   "metadata": {},
   "source": [
    "# mt-tRNAs and GROMACS"
   ]
  },
  {
   "cell_type": "code",
   "execution_count": null,
   "metadata": {},
   "outputs": [],
   "source": [
    "!cd ../data/tertiary"
   ]
  },
  {
   "cell_type": "markdown",
   "metadata": {},
   "source": [
    "### Multiple T for mt-tRNA_Met\n"
   ]
  },
  {
   "cell_type": "code",
   "execution_count": 1,
   "metadata": {
    "collapsed": true
   },
   "outputs": [
    {
     "name": "stdout",
     "output_type": "stream",
     "text": [
      "                 :-) GROMACS - gmx grompp, 2022-conda_forge (-:\n",
      "\n",
      "Executable:   /home/mirgow/anaconda3/envs/md-intro-tutorial/bin.AVX2_256/gmx\n",
      "Data prefix:  /home/mirgow/anaconda3/envs/md-intro-tutorial\n",
      "Working dir:  /mnt/c/Users/cyber/Documents/Gromacs/atomistic\n",
      "Command line:\n",
      "  gmx grompp -maxwarn 1 -f MDP_temp_70.mdp -c Newaim/met/met.28956.pdb.gro -p Newaim/met/met.28956.pdb.top -o met_temp_70.tpr\n",
      "\n",
      "Ignoring obsolete mdp entry 'ns_type'\n",
      "Replacing old mdp entry 'nstxtcout' by 'nstxout-compressed'\n",
      "Replacing old mdp entry 'xtc_grps' by 'compressed-x-grps'\n",
      "\n",
      "WARNING 1 [file MDP_temp_70.mdp]:\n",
      "  Removing the rotation around the center of mass in a periodic system,\n",
      "  this can lead to artifacts. Only use this on a single (cluster of)\n",
      "  molecules. This cluster should not cross periodic boundaries.\n",
      "\n",
      "Setting the LD random seed to -16820225\n",
      "\n",
      "Generated 378 of the 378 non-bonded parameter combinations\n",
      "\n",
      "Excluding 3 bonded neighbours molecule type 'Macromolecule'\n",
      "\n",
      "Setting gen_seed to -201417\n",
      "\n",
      "Velocities were taken from a Maxwell distribution at 70 K\n",
      "Analysing residue names:\n",
      "There are:    70        RNA residues\n",
      "Number of degrees of freedom in T-Coupling group System is 4422.00\n",
      "\n",
      "Determining Verlet buffer for a tolerance of 0.005 kJ/mol/ps at 70 K\n",
      "\n",
      "Calculated rlist for 1x1 atom pair-list as 1.500 nm, buffer size 0.000 nm\n",
      "\n",
      "Set rlist, assuming 4x4 atom pair-list, to 1.500 nm, buffer size 0.000 nm\n",
      "\n",
      "Note that mdrun will redetermine rlist based on the actual pair-list setup\n",
      "\n",
      "This run will generate roughly 111 Mb of data\n",
      "\n",
      "There was 1 warning\n",
      "\n",
      "GROMACS reminds you: \"It's an easy game, just don't let the ball past!\" (Szilard Pall)\n",
      "\n"
     ]
    }
   ],
   "source": [
    "!gmx grompp -maxwarn 1 -f MDP_temp_70.mdp -c met/met.28956.pdb.gro -p met/met.28956.pdb.top -o met_temp_70.tpr"
   ]
  },
  {
   "cell_type": "code",
   "execution_count": 2,
   "metadata": {
    "collapsed": true
   },
   "outputs": [
    {
     "name": "stdout",
     "output_type": "stream",
     "text": [
      "                 :-) GROMACS - gmx mdrun, 2022-conda_forge (-:\n",
      "\n",
      "Executable:   /home/mirgow/anaconda3/envs/md-intro-tutorial/bin.AVX2_256/gmx\n",
      "Data prefix:  /home/mirgow/anaconda3/envs/md-intro-tutorial\n",
      "Working dir:  /mnt/c/Users/cyber/Documents/Gromacs/atomistic\n",
      "Command line:\n",
      "  gmx mdrun -s met_temp_70.tpr -noddcheck\n",
      "\n",
      "Reading file met_temp_70.tpr, VERSION 2022-conda_forge (single precision)\n",
      "Changing nstlist from 20 to 100, rlist from 1.5 to 1.5\n",
      "\n",
      "Using 1 MPI thread\n",
      "Using 16 OpenMP threads \n",
      "\n",
      "starting mdrun 'Macromolecule'\n",
      "10000000 steps,   5000.0 ps.\n",
      "\n",
      "Writing final coordinates.\n",
      "\n",
      "               Core t (s)   Wall t (s)        (%)\n",
      "       Time:    34169.381     2135.589     1600.0\n",
      "                         35:35\n",
      "                 (ns/day)    (hour/ns)\n",
      "Performance:      202.286        0.119\n",
      "\n",
      "GROMACS reminds you: \"Yeah, a Wuzz, Or a Jerk\" (F. Black)\n",
      "\n"
     ]
    }
   ],
   "source": [
    "!gmx mdrun -s met_temp_70.tpr -noddcheck"
   ]
  },
  {
   "cell_type": "code",
   "execution_count": 4,
   "metadata": {
    "collapsed": true
   },
   "outputs": [
    {
     "name": "stdout",
     "output_type": "stream",
     "text": [
      "                 :-) GROMACS - gmx grompp, 2022-conda_forge (-:\n",
      "\n",
      "Executable:   /home/mirgow/anaconda3/envs/md-intro-tutorial/bin.AVX2_256/gmx\n",
      "Data prefix:  /home/mirgow/anaconda3/envs/md-intro-tutorial\n",
      "Working dir:  /mnt/c/Users/cyber/Documents/Gromacs/atomistic\n",
      "Command line:\n",
      "  gmx grompp -maxwarn 1 -f MDP_temp_60.mdp -c Newaim/met/met.28956.pdb.gro -p Newaim/met/met.28956.pdb.top -o met_temp_60.tpr\n",
      "\n",
      "Ignoring obsolete mdp entry 'ns_type'\n",
      "Replacing old mdp entry 'nstxtcout' by 'nstxout-compressed'\n",
      "Replacing old mdp entry 'xtc_grps' by 'compressed-x-grps'\n",
      "\n",
      "WARNING 1 [file MDP_temp_60.mdp]:\n",
      "  Removing the rotation around the center of mass in a periodic system,\n",
      "  this can lead to artifacts. Only use this on a single (cluster of)\n",
      "  molecules. This cluster should not cross periodic boundaries.\n",
      "\n",
      "Setting the LD random seed to -281082883\n",
      "\n",
      "Generated 378 of the 378 non-bonded parameter combinations\n",
      "\n",
      "Excluding 3 bonded neighbours molecule type 'Macromolecule'\n",
      "\n",
      "Setting gen_seed to -1074282593\n",
      "\n",
      "Velocities were taken from a Maxwell distribution at 60 K\n",
      "Analysing residue names:\n",
      "There are:    70        RNA residues\n",
      "Number of degrees of freedom in T-Coupling group System is 4422.00\n",
      "\n",
      "Determining Verlet buffer for a tolerance of 0.005 kJ/mol/ps at 60 K\n",
      "\n",
      "Calculated rlist for 1x1 atom pair-list as 1.500 nm, buffer size 0.000 nm\n",
      "\n",
      "Set rlist, assuming 4x4 atom pair-list, to 1.500 nm, buffer size 0.000 nm\n",
      "\n",
      "Note that mdrun will redetermine rlist based on the actual pair-list setup\n",
      "\n",
      "This run will generate roughly 111 Mb of data\n",
      "\n",
      "There was 1 warning\n",
      "\n",
      "GROMACS reminds you: \"Science... never solves a problem without creating ten more.\" (George Bernard Shaw)\n",
      "\n"
     ]
    }
   ],
   "source": [
    "!gmx grompp -maxwarn 1 -f MDP_temp_60.mdp -c met/met.28956.pdb.gro -p met/met.28956.pdb.top -o met_temp_60.tpr"
   ]
  },
  {
   "cell_type": "code",
   "execution_count": 5,
   "metadata": {
    "collapsed": true
   },
   "outputs": [
    {
     "name": "stdout",
     "output_type": "stream",
     "text": [
      "                 :-) GROMACS - gmx mdrun, 2022-conda_forge (-:\n",
      "\n",
      "Executable:   /home/mirgow/anaconda3/envs/md-intro-tutorial/bin.AVX2_256/gmx\n",
      "Data prefix:  /home/mirgow/anaconda3/envs/md-intro-tutorial\n",
      "Working dir:  /mnt/c/Users/cyber/Documents/Gromacs/atomistic\n",
      "Command line:\n",
      "  gmx mdrun -s met_temp_60.tpr -noddcheck\n",
      "\n",
      "Reading file met_temp_60.tpr, VERSION 2022-conda_forge (single precision)\n",
      "Changing nstlist from 20 to 100, rlist from 1.5 to 1.5\n",
      "\n",
      "Using 1 MPI thread\n",
      "Using 16 OpenMP threads \n",
      "\n",
      "starting mdrun 'Macromolecule'\n",
      "10000000 steps,   5000.0 ps.\n",
      "\n",
      "Writing final coordinates.\n",
      "\n",
      "               Core t (s)   Wall t (s)        (%)\n",
      "       Time:    26855.785     1678.488     1600.0\n",
      "                 (ns/day)    (hour/ns)\n",
      "Performance:      257.375        0.093\n",
      "\n",
      "GROMACS reminds you: \"Love is Like Moby Dick, Get Chewed and Get Spat Out\" (Urban Dance Squad)\n",
      "\n"
     ]
    }
   ],
   "source": [
    "!gmx mdrun -s met_temp_60.tpr -noddcheck"
   ]
  },
  {
   "cell_type": "code",
   "execution_count": null,
   "metadata": {},
   "outputs": [],
   "source": [
    "!gmx grompp -maxwarn 1 -f MDP_temp_80.mdp -c met/met.28956.pdb.gro -p met/met.28956.pdb.top -o met_temp_80.tpr"
   ]
  },
  {
   "cell_type": "code",
   "execution_count": null,
   "metadata": {},
   "outputs": [],
   "source": [
    "!gmx mdrun -s met_temp_80.tpr -noddcheck"
   ]
  },
  {
   "cell_type": "code",
   "execution_count": 1,
   "metadata": {
    "scrolled": true
   },
   "outputs": [
    {
     "name": "stdout",
     "output_type": "stream",
     "text": [
      "MDP_melt.mdp\t  MDP_temp_60.mdp  Newaim\t\t   met\r\n",
      "MDP_melt_130.mdp  MDP_temp_70.mdp  RNA_analysis.ipynb\t   val\r\n",
      "MDP_sample.mdp\t  MDP_temp_80.mdp  atomistic_simuls.ipynb\r\n",
      "MDP_temp_100.mdp  MDP_temp_90.mdp  lys\r\n"
     ]
    }
   ],
   "source": []
  },
  {
   "cell_type": "code",
   "execution_count": 2,
   "metadata": {},
   "outputs": [
    {
     "name": "stdout",
     "output_type": "stream",
     "text": [
      "/mnt/c/Users/cyber/Documents/Gromacs/atomistic/Newaim/met/sim_90\n",
      "mdout.mdp  met_temp_90.tpr\r\n"
     ]
    }
   ],
   "source": [
    "%cd Newaim/met/sim_90/\n",
    "!ls"
   ]
  },
  {
   "cell_type": "code",
   "execution_count": 3,
   "metadata": {
    "collapsed": true
   },
   "outputs": [
    {
     "name": "stdout",
     "output_type": "stream",
     "text": [
      "                 :-) GROMACS - gmx mdrun, 2022-conda_forge (-:\n",
      "\n",
      "Executable:   /home/mirgow/anaconda3/envs/md-intro-tutorial/bin.AVX2_256/gmx\n",
      "Data prefix:  /home/mirgow/anaconda3/envs/md-intro-tutorial\n",
      "Working dir:  /mnt/c/Users/cyber/Documents/Gromacs/atomistic/Newaim/met/sim_90\n",
      "Command line:\n",
      "  gmx mdrun -s met_temp_90.tpr\n",
      "\n",
      "Reading file met_temp_90.tpr, VERSION 2022-conda_forge (single precision)\n",
      "Changing nstlist from 20 to 100, rlist from 1.5 to 1.5\n",
      "\n",
      "Using 1 MPI thread\n",
      "Using 16 OpenMP threads \n",
      "\n",
      "starting mdrun 'Macromolecule'\n",
      "10000000 steps,   5000.0 ps.\n",
      "\n",
      "Writing final coordinates.\n",
      "\n",
      "               Core t (s)   Wall t (s)        (%)\n",
      "       Time:   393682.915    24605.184     1600.0\n",
      "                         6h50:05\n",
      "                 (ns/day)    (hour/ns)\n",
      "Performance:       17.557        1.367\n",
      "\n",
      "GROMACS reminds you: \"Way to Go Dude\" (Beavis and Butthead)\n",
      "\n"
     ]
    }
   ],
   "source": [
    "!gmx mdrun -s met_temp_90.tpr"
   ]
  },
  {
   "cell_type": "code",
   "execution_count": null,
   "metadata": {},
   "outputs": [],
   "source": []
  },
  {
   "cell_type": "code",
   "execution_count": 4,
   "metadata": {},
   "outputs": [
    {
     "name": "stdout",
     "output_type": "stream",
     "text": [
      "/mnt/c/Users/cyber/Documents/Gromacs/atomistic/Newaim/met/sim_100\n"
     ]
    }
   ],
   "source": [
    "%cd ../sim_100/\n",
    "!ls"
   ]
  },
  {
   "cell_type": "code",
   "execution_count": 7,
   "metadata": {
    "collapsed": true
   },
   "outputs": [
    {
     "name": "stdout",
     "output_type": "stream",
     "text": [
      "                 :-) GROMACS - gmx grompp, 2022-conda_forge (-:\n",
      "\n",
      "Executable:   /home/mirgow/anaconda3/envs/md-intro-tutorial/bin.AVX2_256/gmx\n",
      "Data prefix:  /home/mirgow/anaconda3/envs/md-intro-tutorial\n",
      "Working dir:  /mnt/c/Users/cyber/Documents/Gromacs/atomistic/Newaim/met/sim_100\n",
      "Command line:\n",
      "  gmx grompp -maxwarn 1 -f ../../../MDP_temp_100.mdp -c ../../../Newaim/met/met.28956.pdb.gro -p ../../../Newaim/met/met.28956.pdb.top -o met_temp_100.tpr\n",
      "\n",
      "Ignoring obsolete mdp entry 'ns_type'\n",
      "Replacing old mdp entry 'nstxtcout' by 'nstxout-compressed'\n",
      "Replacing old mdp entry 'xtc_grps' by 'compressed-x-grps'\n",
      "\n",
      "WARNING 1 [file ../../../MDP_temp_100.mdp]:\n",
      "  Removing the rotation around the center of mass in a periodic system,\n",
      "  this can lead to artifacts. Only use this on a single (cluster of)\n",
      "  molecules. This cluster should not cross periodic boundaries.\n",
      "\n",
      "Setting the LD random seed to -746721413\n",
      "\n",
      "Generated 378 of the 378 non-bonded parameter combinations\n",
      "\n",
      "Excluding 3 bonded neighbours molecule type 'Macromolecule'\n",
      "\n",
      "Setting gen_seed to -247466071\n",
      "\n",
      "Velocities were taken from a Maxwell distribution at 100 K\n",
      "Analysing residue names:\n",
      "There are:    70        RNA residues\n",
      "Number of degrees of freedom in T-Coupling group System is 4422.00\n",
      "\n",
      "Determining Verlet buffer for a tolerance of 0.005 kJ/mol/ps at 100 K\n",
      "\n",
      "Calculated rlist for 1x1 atom pair-list as 1.500 nm, buffer size 0.000 nm\n",
      "\n",
      "Set rlist, assuming 4x4 atom pair-list, to 1.500 nm, buffer size 0.000 nm\n",
      "\n",
      "Note that mdrun will redetermine rlist based on the actual pair-list setup\n",
      "\n",
      "This run will generate roughly 111 Mb of data\n",
      "\n",
      "There was 1 warning\n",
      "\n",
      "GROMACS reminds you: \"You Dirty Switch, You're On Again\" (The Breeders)\n",
      "\n"
     ]
    }
   ],
   "source": [
    "!gmx grompp -maxwarn 1 -f ../../../MDP_temp_100.mdp -c met/met.28956.pdb.gro -p met/met.28956.pdb.top -o met_temp_100.tpr"
   ]
  },
  {
   "cell_type": "code",
   "execution_count": 1,
   "metadata": {
    "collapsed": true
   },
   "outputs": [
    {
     "name": "stdout",
     "output_type": "stream",
     "text": [
      "              :-) GROMACS - gmx mdrun, 2020.1-Ubuntu-2020.1-1 (-:\n",
      "\n",
      "                            GROMACS is written by:\n",
      "     Emile Apol      Rossen Apostolov      Paul Bauer     Herman J.C. Berendsen\n",
      "    Par Bjelkmar      Christian Blau   Viacheslav Bolnykh     Kevin Boyd    \n",
      " Aldert van Buuren   Rudi van Drunen     Anton Feenstra       Alan Gray     \n",
      "  Gerrit Groenhof     Anca Hamuraru    Vincent Hindriksen  M. Eric Irrgang  \n",
      "  Aleksei Iupinov   Christoph Junghans     Joe Jordan     Dimitrios Karkoulis\n",
      "    Peter Kasson        Jiri Kraus      Carsten Kutzner      Per Larsson    \n",
      "  Justin A. Lemkul    Viveca Lindahl    Magnus Lundborg     Erik Marklund   \n",
      "    Pascal Merz     Pieter Meulenhoff    Teemu Murtola       Szilard Pall   \n",
      "    Sander Pronk      Roland Schulz      Michael Shirts    Alexey Shvetsov  \n",
      "   Alfons Sijbers     Peter Tieleman      Jon Vincent      Teemu Virolainen \n",
      " Christian Wennberg    Maarten Wolf      Artem Zhmurov   \n",
      "                           and the project leaders:\n",
      "        Mark Abraham, Berk Hess, Erik Lindahl, and David van der Spoel\n",
      "\n",
      "Copyright (c) 1991-2000, University of Groningen, The Netherlands.\n",
      "Copyright (c) 2001-2019, The GROMACS development team at\n",
      "Uppsala University, Stockholm University and\n",
      "the Royal Institute of Technology, Sweden.\n",
      "check out http://www.gromacs.org for more information.\n",
      "\n",
      "GROMACS is free software; you can redistribute it and/or modify it\n",
      "under the terms of the GNU Lesser General Public License\n",
      "as published by the Free Software Foundation; either version 2.1\n",
      "of the License, or (at your option) any later version.\n",
      "\n",
      "GROMACS:      gmx mdrun, version 2020.1-Ubuntu-2020.1-1\n",
      "Executable:   /usr/bin/gmx\n",
      "Data prefix:  /usr\n",
      "Working dir:  /mnt/c/Users/cyber/Documents/Gromacs/atomistic\n",
      "Command line:\n",
      "  gmx mdrun -s met_temp_100.tpr -nb gpu\n",
      "\n",
      "\n",
      "-------------------------------------------------------\n",
      "Program:     gmx mdrun, version 2020.1-Ubuntu-2020.1-1\n",
      "Source file: src/gromacs/commandline/cmdlineparser.cpp (line 275)\n",
      "Function:    void gmx::CommandLineParser::parse(int*, char**)\n",
      "\n",
      "Error in user input:\n",
      "Invalid command-line options\n",
      "  In command-line option -s\n",
      "    File 'met_temp_100.tpr' does not exist or is not accessible.\n",
      "    The file could not be opened.\n",
      "      Reason: No such file or directory\n",
      "      (call to fopen() returned error code 2)\n",
      "\n",
      "For more information and tips for troubleshooting, please check the GROMACS\n",
      "website at http://www.gromacs.org/Documentation/Errors\n",
      "-------------------------------------------------------\n"
     ]
    }
   ],
   "source": [
    "!gmx mdrun -s met_temp_100.tpr -nb gpu"
   ]
  },
  {
   "cell_type": "markdown",
   "metadata": {},
   "source": [
    "### Running 70 T for all molecules"
   ]
  },
  {
   "cell_type": "code",
   "execution_count": 2,
   "metadata": {},
   "outputs": [
    {
     "name": "stdout",
     "output_type": "stream",
     "text": [
      "/mnt/c/Users/cyber/Documents/Gromacs/atomistic/Newaim/val/sim_70_2\n"
     ]
    }
   ],
   "source": [
    "%cd ../../val/sim_70_2/\n",
    "!ls"
   ]
  },
  {
   "cell_type": "code",
   "execution_count": 3,
   "metadata": {
    "scrolled": true
   },
   "outputs": [
    {
     "name": "stdout",
     "output_type": "stream",
     "text": [
      "                 :-) GROMACS - gmx grompp, 2022-conda_forge (-:\n",
      "\n",
      "Executable:   /home/mirgow/anaconda3/envs/md-intro-tutorial/bin.AVX2_256/gmx\n",
      "Data prefix:  /home/mirgow/anaconda3/envs/md-intro-tutorial\n",
      "Working dir:  /mnt/c/Users/cyber/Documents/Gromacs/atomistic/Newaim/val/sim_70_2\n",
      "Command line:\n",
      "  gmx grompp -maxwarn 1 -f ../../MDP_temp_70.mdp -c ../val.28955.pdb.gro -p ../val.28955.pdb.top -o val_temp_70.tpr\n",
      "\n",
      "Ignoring obsolete mdp entry 'ns_type'\n",
      "Replacing old mdp entry 'nstxtcout' by 'nstxout-compressed'\n",
      "Replacing old mdp entry 'xtc_grps' by 'compressed-x-grps'\n",
      "\n",
      "WARNING 1 [file ../../MDP_temp_70.mdp]:\n",
      "  Removing the rotation around the center of mass in a periodic system,\n",
      "  this can lead to artifacts. Only use this on a single (cluster of)\n",
      "  molecules. This cluster should not cross periodic boundaries.\n",
      "\n",
      "Setting the LD random seed to -172040526\n",
      "\n",
      "Generated 406 of the 406 non-bonded parameter combinations\n",
      "\n",
      "Excluding 3 bonded neighbours molecule type 'Macromolecule'\n",
      "\n",
      "Setting gen_seed to 1072688619\n",
      "\n",
      "Velocities were taken from a Maxwell distribution at 70 K\n",
      "Analysing residue names:\n",
      "There are:    69        RNA residues\n",
      "Number of degrees of freedom in T-Coupling group System is 4374.00\n",
      "\n",
      "Determining Verlet buffer for a tolerance of 0.005 kJ/mol/ps at 70 K\n",
      "\n",
      "Calculated rlist for 1x1 atom pair-list as 1.500 nm, buffer size 0.000 nm\n",
      "\n",
      "Set rlist, assuming 4x4 atom pair-list, to 1.500 nm, buffer size 0.000 nm\n",
      "\n",
      "Note that mdrun will redetermine rlist based on the actual pair-list setup\n",
      "\n",
      "This run will generate roughly 110 Mb of data\n",
      "\n",
      "There was 1 warning\n",
      "\n",
      "GROMACS reminds you: \"We are perhaps not far removed from the time when we shall be able to submit the bulk of chemical phenomena to calculation.\" (Joseph Gay-Lussac, 1808)\n",
      "\n",
      "                 :-) GROMACS - gmx mdrun, 2022-conda_forge (-:\n",
      "\n",
      "Executable:   /home/mirgow/anaconda3/envs/md-intro-tutorial/bin.AVX2_256/gmx\n",
      "Data prefix:  /home/mirgow/anaconda3/envs/md-intro-tutorial\n",
      "Working dir:  /mnt/c/Users/cyber/Documents/Gromacs/atomistic/Newaim/val/sim_70_2\n",
      "Command line:\n",
      "  gmx mdrun -s val_temp_70.tpr\n",
      "\n",
      "Reading file val_temp_70.tpr, VERSION 2022-conda_forge (single precision)\n",
      "Changing nstlist from 20 to 100, rlist from 1.5 to 1.5\n",
      "\n",
      "Using 1 MPI thread\n",
      "Using 16 OpenMP threads \n",
      "\n",
      "starting mdrun 'Macromolecule'\n",
      "10000000 steps,   5000.0 ps.\n",
      "\n",
      "Writing final coordinates.\n",
      "\n",
      "               Core t (s)   Wall t (s)        (%)\n",
      "       Time:    44008.462     2750.530     1600.0\n",
      "                         45:50\n",
      "                 (ns/day)    (hour/ns)\n",
      "Performance:      157.061        0.153\n",
      "\n",
      "GROMACS reminds you: \"Science is organized knowledge. Wisdom is organized life.\" (Immanuel Kant)\n",
      "\n"
     ]
    }
   ],
   "source": [
    "!gmx grompp -maxwarn 1 -f ../../scripts/MDP_temp_70.mdp -c ../val.28955.pdb.gro -p ../val.28955.pdb.top -o val_temp_70.tpr\n",
    "!gmx mdrun -s val_temp_70.tpr"
   ]
  },
  {
   "cell_type": "code",
   "execution_count": 4,
   "metadata": {},
   "outputs": [
    {
     "name": "stdout",
     "output_type": "stream",
     "text": [
      "/mnt/c/Users/cyber/Documents/Gromacs/atomistic/Newaim/val/sim_70_3\n"
     ]
    }
   ],
   "source": [
    "%cd ../../val/sim_70_3/\n",
    "!ls"
   ]
  },
  {
   "cell_type": "code",
   "execution_count": 5,
   "metadata": {
    "scrolled": true
   },
   "outputs": [
    {
     "name": "stdout",
     "output_type": "stream",
     "text": [
      "                 :-) GROMACS - gmx grompp, 2022-conda_forge (-:\n",
      "\n",
      "Executable:   /home/mirgow/anaconda3/envs/md-intro-tutorial/bin.AVX2_256/gmx\n",
      "Data prefix:  /home/mirgow/anaconda3/envs/md-intro-tutorial\n",
      "Working dir:  /mnt/c/Users/cyber/Documents/Gromacs/atomistic/Newaim/val/sim_70_3\n",
      "Command line:\n",
      "  gmx grompp -maxwarn 1 -f ../../MDP_temp_70.mdp -c ../val.28955.pdb.gro -p ../val.28955.pdb.top -o val_temp_70.tpr\n",
      "\n",
      "Ignoring obsolete mdp entry 'ns_type'\n",
      "Replacing old mdp entry 'nstxtcout' by 'nstxout-compressed'\n",
      "Replacing old mdp entry 'xtc_grps' by 'compressed-x-grps'\n",
      "\n",
      "WARNING 1 [file ../../MDP_temp_70.mdp]:\n",
      "  Removing the rotation around the center of mass in a periodic system,\n",
      "  this can lead to artifacts. Only use this on a single (cluster of)\n",
      "  molecules. This cluster should not cross periodic boundaries.\n",
      "\n",
      "Setting the LD random seed to -605029721\n",
      "\n",
      "Generated 406 of the 406 non-bonded parameter combinations\n",
      "\n",
      "Excluding 3 bonded neighbours molecule type 'Macromolecule'\n",
      "\n",
      "Setting gen_seed to -353505311\n",
      "\n",
      "Velocities were taken from a Maxwell distribution at 70 K\n",
      "Analysing residue names:\n",
      "There are:    69        RNA residues\n",
      "Number of degrees of freedom in T-Coupling group System is 4374.00\n",
      "\n",
      "Determining Verlet buffer for a tolerance of 0.005 kJ/mol/ps at 70 K\n",
      "\n",
      "Calculated rlist for 1x1 atom pair-list as 1.500 nm, buffer size 0.000 nm\n",
      "\n",
      "Set rlist, assuming 4x4 atom pair-list, to 1.500 nm, buffer size 0.000 nm\n",
      "\n",
      "Note that mdrun will redetermine rlist based on the actual pair-list setup\n",
      "\n",
      "This run will generate roughly 110 Mb of data\n",
      "\n",
      "There was 1 warning\n",
      "\n",
      "GROMACS reminds you: \"Science is organized knowledge. Wisdom is organized life.\" (Immanuel Kant)\n",
      "\n",
      "                 :-) GROMACS - gmx mdrun, 2022-conda_forge (-:\n",
      "\n",
      "Executable:   /home/mirgow/anaconda3/envs/md-intro-tutorial/bin.AVX2_256/gmx\n",
      "Data prefix:  /home/mirgow/anaconda3/envs/md-intro-tutorial\n",
      "Working dir:  /mnt/c/Users/cyber/Documents/Gromacs/atomistic/Newaim/val/sim_70_3\n",
      "Command line:\n",
      "  gmx mdrun -s val_temp_70.tpr\n",
      "\n",
      "Reading file val_temp_70.tpr, VERSION 2022-conda_forge (single precision)\n",
      "Changing nstlist from 20 to 100, rlist from 1.5 to 1.5\n",
      "\n",
      "Using 1 MPI thread\n",
      "Using 16 OpenMP threads \n",
      "\n",
      "starting mdrun 'Macromolecule'\n",
      "10000000 steps,   5000.0 ps.\n",
      "\n",
      "Writing final coordinates.\n",
      "\n",
      "               Core t (s)   Wall t (s)        (%)\n",
      "       Time:    31705.201     1981.576     1600.0\n",
      "                         33:01\n",
      "                 (ns/day)    (hour/ns)\n",
      "Performance:      218.008        0.110\n",
      "\n",
      "GROMACS reminds you: \"You Could Be a Shadow\" (The Breeders)\n",
      "\n"
     ]
    }
   ],
   "source": [
    "!gmx grompp -maxwarn 1 -f ../../scripts/MDP_temp_70.mdp -c ../val.28955.pdb.gro -p ../val.28955.pdb.top -o val_temp_70.tpr\n",
    "!gmx mdrun -s val_temp_70.tpr"
   ]
  },
  {
   "cell_type": "code",
   "execution_count": 49,
   "metadata": {
    "scrolled": true
   },
   "outputs": [
    {
     "name": "stdout",
     "output_type": "stream",
     "text": [
      "                 :-) GROMACS - gmx grompp, 2022-conda_forge (-:\n",
      "\n",
      "Executable:   /home/mirgow/anaconda3/envs/md-intro-tutorial/bin.AVX2_256/gmx\n",
      "Data prefix:  /home/mirgow/anaconda3/envs/md-intro-tutorial\n",
      "Working dir:  /mnt/c/Users/cyber/Documents/Gromacs/atomistic/Newaim/leu/sim_70_2\n",
      "Command line:\n",
      "  gmx grompp -maxwarn 1 -f ../../MDP_temp_70.mdp -c ../leu.28963.pdb.gro -p ../leu.28963.pdb.top -o leu_temp_70.tpr\n",
      "\n",
      "Ignoring obsolete mdp entry 'ns_type'\n",
      "Replacing old mdp entry 'nstxtcout' by 'nstxout-compressed'\n",
      "Replacing old mdp entry 'xtc_grps' by 'compressed-x-grps'\n",
      "\n",
      "WARNING 1 [file ../../MDP_temp_70.mdp]:\n",
      "  Removing the rotation around the center of mass in a periodic system,\n",
      "  this can lead to artifacts. Only use this on a single (cluster of)\n",
      "  molecules. This cluster should not cross periodic boundaries.\n",
      "\n",
      "Setting the LD random seed to 1488900095\n",
      "\n",
      "Generated 378 of the 378 non-bonded parameter combinations\n",
      "\n",
      "Excluding 3 bonded neighbours molecule type 'Macromolecule'\n",
      "\n",
      "Setting gen_seed to 1835007999\n",
      "\n",
      "Velocities were taken from a Maxwell distribution at 70 K\n",
      "Analysing residue names:\n",
      "There are:    75        RNA residues\n",
      "Number of degrees of freedom in T-Coupling group System is 4752.00\n",
      "\n",
      "Determining Verlet buffer for a tolerance of 0.005 kJ/mol/ps at 70 K\n",
      "\n",
      "Calculated rlist for 1x1 atom pair-list as 1.500 nm, buffer size 0.000 nm\n",
      "\n",
      "Set rlist, assuming 4x4 atom pair-list, to 1.500 nm, buffer size 0.000 nm\n",
      "\n",
      "Note that mdrun will redetermine rlist based on the actual pair-list setup\n",
      "\n",
      "This run will generate roughly 116 Mb of data\n",
      "\n",
      "There was 1 warning\n",
      "\n",
      "GROMACS reminds you: \"The Carpenter Goes Bang Bang\" (The Breeders)\n",
      "\n",
      "                 :-) GROMACS - gmx mdrun, 2022-conda_forge (-:\n",
      "\n",
      "Executable:   /home/mirgow/anaconda3/envs/md-intro-tutorial/bin.AVX2_256/gmx\n",
      "Data prefix:  /home/mirgow/anaconda3/envs/md-intro-tutorial\n",
      "Working dir:  /mnt/c/Users/cyber/Documents/Gromacs/atomistic/Newaim/leu/sim_70_2\n",
      "Command line:\n",
      "  gmx mdrun -s leu_temp_70.tpr\n",
      "\n",
      "Reading file leu_temp_70.tpr, VERSION 2022-conda_forge (single precision)\n",
      "Changing nstlist from 20 to 100, rlist from 1.5 to 1.5\n",
      "\n",
      "Using 1 MPI thread\n",
      "Using 16 OpenMP threads \n",
      "\n",
      "starting mdrun 'Macromolecule'\n",
      "10000000 steps,   5000.0 ps.\n",
      "\n",
      "Writing final coordinates.\n",
      "\n",
      "               Core t (s)   Wall t (s)        (%)\n",
      "       Time:   609125.890    38070.371     1600.0\n",
      "                         10h34:30\n",
      "                 (ns/day)    (hour/ns)\n",
      "Performance:       11.347        2.115\n",
      "\n",
      "GROMACS reminds you: \"Always code as if the person who ends up maintaining your code is a violent psychopath who knows where you live.\" (Martin Golding)\n",
      "\n"
     ]
    }
   ],
   "source": [
    "!gmx grompp -maxwarn 1 -f ../../scripts/MDP_temp_70.mdp -c ../leu.28963.pdb.gro -p ../leu.28963.pdb.top -o leu_temp_70.tpr\n",
    "!gmx mdrun -s leu_temp_70.tpr"
   ]
  },
  {
   "cell_type": "code",
   "execution_count": 50,
   "metadata": {},
   "outputs": [
    {
     "name": "stdout",
     "output_type": "stream",
     "text": [
      "/mnt/c/Users/cyber/Documents/Gromacs/atomistic/Newaim/leuM/sim_70_2\n"
     ]
    }
   ],
   "source": [
    "%cd ../../leuM/sim_70_2/\n",
    "!ls"
   ]
  },
  {
   "cell_type": "code",
   "execution_count": 51,
   "metadata": {
    "scrolled": true
   },
   "outputs": [
    {
     "name": "stdout",
     "output_type": "stream",
     "text": [
      "                 :-) GROMACS - gmx grompp, 2022-conda_forge (-:\n",
      "\n",
      "Executable:   /home/mirgow/anaconda3/envs/md-intro-tutorial/bin.AVX2_256/gmx\n",
      "Data prefix:  /home/mirgow/anaconda3/envs/md-intro-tutorial\n",
      "Working dir:  /mnt/c/Users/cyber/Documents/Gromacs/atomistic/Newaim/leuM/sim_70_2\n",
      "Command line:\n",
      "  gmx grompp -maxwarn 1 -f ../../MDP_temp_70.mdp -c ../leuM.28964.pdb.gro -p ../leuM.28964.pdb.top -o leuM_temp_70.tpr\n",
      "\n",
      "Ignoring obsolete mdp entry 'ns_type'\n",
      "Replacing old mdp entry 'nstxtcout' by 'nstxout-compressed'\n",
      "Replacing old mdp entry 'xtc_grps' by 'compressed-x-grps'\n",
      "\n",
      "WARNING 1 [file ../../MDP_temp_70.mdp]:\n",
      "  Removing the rotation around the center of mass in a periodic system,\n",
      "  this can lead to artifacts. Only use this on a single (cluster of)\n",
      "  molecules. This cluster should not cross periodic boundaries.\n",
      "\n",
      "Setting the LD random seed to -889593865\n",
      "\n",
      "Generated 378 of the 378 non-bonded parameter combinations\n",
      "\n",
      "Excluding 3 bonded neighbours molecule type 'Macromolecule'\n",
      "\n",
      "Setting gen_seed to -1041766507\n",
      "\n",
      "Velocities were taken from a Maxwell distribution at 70 K\n",
      "Analysing residue names:\n",
      "There are:    75        RNA residues\n",
      "Number of degrees of freedom in T-Coupling group System is 4755.00\n",
      "\n",
      "Determining Verlet buffer for a tolerance of 0.005 kJ/mol/ps at 70 K\n",
      "\n",
      "Calculated rlist for 1x1 atom pair-list as 1.500 nm, buffer size 0.000 nm\n",
      "\n",
      "Set rlist, assuming 4x4 atom pair-list, to 1.500 nm, buffer size 0.000 nm\n",
      "\n",
      "Note that mdrun will redetermine rlist based on the actual pair-list setup\n",
      "\n",
      "This run will generate roughly 116 Mb of data\n",
      "\n",
      "There was 1 warning\n",
      "\n",
      "GROMACS reminds you: \"You Can Be Too Early, You Can Be Too Late and You Can Be On Time\" (J. Cruijff)\n",
      "\n",
      "                 :-) GROMACS - gmx mdrun, 2022-conda_forge (-:\n",
      "\n",
      "Executable:   /home/mirgow/anaconda3/envs/md-intro-tutorial/bin.AVX2_256/gmx\n",
      "Data prefix:  /home/mirgow/anaconda3/envs/md-intro-tutorial\n",
      "Working dir:  /mnt/c/Users/cyber/Documents/Gromacs/atomistic/Newaim/leuM/sim_70_2\n",
      "Command line:\n",
      "  gmx mdrun -s leuM_temp_70.tpr\n",
      "\n",
      "Reading file leuM_temp_70.tpr, VERSION 2022-conda_forge (single precision)\n",
      "Changing nstlist from 20 to 100, rlist from 1.5 to 1.5\n",
      "\n",
      "Using 1 MPI thread\n",
      "Using 16 OpenMP threads \n",
      "\n",
      "starting mdrun 'Macromolecule'\n",
      "10000000 steps,   5000.0 ps.\n",
      "\n",
      "Writing final coordinates.\n",
      "\n",
      "               Core t (s)   Wall t (s)        (%)\n",
      "       Time:    42853.460     2678.345     1600.0\n",
      "                         44:38\n",
      "                 (ns/day)    (hour/ns)\n",
      "Performance:      161.294        0.149\n",
      "\n",
      "GROMACS reminds you: \"You Fill Your Space So Sweet\" (F. Apple)\n",
      "\n"
     ]
    }
   ],
   "source": [
    "!gmx grompp -maxwarn 1 -f ../../scripts/MDP_temp_70.mdp -c ../leuM.28964.pdb.gro -p ../leuM.28964.pdb.top -o leuM_temp_70.tpr\n",
    "!gmx mdrun -s leuM_temp_70.tpr"
   ]
  },
  {
   "cell_type": "code",
   "execution_count": 52,
   "metadata": {},
   "outputs": [
    {
     "name": "stdout",
     "output_type": "stream",
     "text": [
      "/mnt/c/Users/cyber/Documents/Gromacs/atomistic/Newaim/leu/sim_70_3\n"
     ]
    }
   ],
   "source": [
    "%cd ../../leu/sim_70_3/\n",
    "!ls"
   ]
  },
  {
   "cell_type": "code",
   "execution_count": 53,
   "metadata": {
    "scrolled": true
   },
   "outputs": [
    {
     "name": "stdout",
     "output_type": "stream",
     "text": [
      "                 :-) GROMACS - gmx grompp, 2022-conda_forge (-:\n",
      "\n",
      "Executable:   /home/mirgow/anaconda3/envs/md-intro-tutorial/bin.AVX2_256/gmx\n",
      "Data prefix:  /home/mirgow/anaconda3/envs/md-intro-tutorial\n",
      "Working dir:  /mnt/c/Users/cyber/Documents/Gromacs/atomistic/Newaim/leu/sim_70_3\n",
      "Command line:\n",
      "  gmx grompp -maxwarn 1 -f ../../MDP_temp_70.mdp -c ../leu.28963.pdb.gro -p ../leu.28963.pdb.top -o leu_temp_70.tpr\n",
      "\n",
      "Ignoring obsolete mdp entry 'ns_type'\n",
      "Replacing old mdp entry 'nstxtcout' by 'nstxout-compressed'\n",
      "Replacing old mdp entry 'xtc_grps' by 'compressed-x-grps'\n",
      "\n",
      "WARNING 1 [file ../../MDP_temp_70.mdp]:\n",
      "  Removing the rotation around the center of mass in a periodic system,\n",
      "  this can lead to artifacts. Only use this on a single (cluster of)\n",
      "  molecules. This cluster should not cross periodic boundaries.\n",
      "\n",
      "Setting the LD random seed to -1176962321\n",
      "\n",
      "Generated 378 of the 378 non-bonded parameter combinations\n",
      "\n",
      "Excluding 3 bonded neighbours molecule type 'Macromolecule'\n",
      "\n",
      "Setting gen_seed to -1544553986\n",
      "\n",
      "Velocities were taken from a Maxwell distribution at 70 K\n",
      "Analysing residue names:\n",
      "There are:    75        RNA residues\n",
      "Number of degrees of freedom in T-Coupling group System is 4752.00\n",
      "\n",
      "Determining Verlet buffer for a tolerance of 0.005 kJ/mol/ps at 70 K\n",
      "\n",
      "Calculated rlist for 1x1 atom pair-list as 1.500 nm, buffer size 0.000 nm\n",
      "\n",
      "Set rlist, assuming 4x4 atom pair-list, to 1.500 nm, buffer size 0.000 nm\n",
      "\n",
      "Note that mdrun will redetermine rlist based on the actual pair-list setup\n",
      "\n",
      "This run will generate roughly 116 Mb of data\n",
      "\n",
      "There was 1 warning\n",
      "\n",
      "GROMACS reminds you: \"You Fill Your Space So Sweet\" (F. Apple)\n",
      "\n",
      "                 :-) GROMACS - gmx mdrun, 2022-conda_forge (-:\n",
      "\n",
      "Executable:   /home/mirgow/anaconda3/envs/md-intro-tutorial/bin.AVX2_256/gmx\n",
      "Data prefix:  /home/mirgow/anaconda3/envs/md-intro-tutorial\n",
      "Working dir:  /mnt/c/Users/cyber/Documents/Gromacs/atomistic/Newaim/leu/sim_70_3\n",
      "Command line:\n",
      "  gmx mdrun -s leu_temp_70.tpr\n",
      "\n",
      "Reading file leu_temp_70.tpr, VERSION 2022-conda_forge (single precision)\n",
      "Changing nstlist from 20 to 100, rlist from 1.5 to 1.5\n",
      "\n",
      "Using 1 MPI thread\n",
      "Using 16 OpenMP threads \n",
      "\n",
      "starting mdrun 'Macromolecule'\n",
      "10000000 steps,   5000.0 ps.\n",
      "\n",
      "Writing final coordinates.\n",
      "\n",
      "               Core t (s)   Wall t (s)        (%)\n",
      "       Time:    32246.648     2015.417     1600.0\n",
      "                         33:35\n",
      "                 (ns/day)    (hour/ns)\n",
      "Performance:      214.348        0.112\n",
      "\n",
      "GROMACS reminds you: \"They Paint Their Faces So Differently From Ours\" (Gogol Bordello)\n",
      "\n"
     ]
    }
   ],
   "source": [
    "!gmx grompp -maxwarn 1 -f ../../scripts/MDP_temp_70.mdp -c ../leu.28963.pdb.gro -p ../leu.28963.pdb.top -o leu_temp_70.tpr\n",
    "!gmx mdrun -s leu_temp_70.tpr"
   ]
  },
  {
   "cell_type": "code",
   "execution_count": 54,
   "metadata": {},
   "outputs": [
    {
     "name": "stdout",
     "output_type": "stream",
     "text": [
      "/mnt/c/Users/cyber/Documents/Gromacs/atomistic/Newaim/leuM/sim_70_3\n"
     ]
    }
   ],
   "source": [
    "%cd ../../leuM/sim_70_3/\n",
    "!ls"
   ]
  },
  {
   "cell_type": "code",
   "execution_count": 55,
   "metadata": {
    "scrolled": true
   },
   "outputs": [
    {
     "name": "stdout",
     "output_type": "stream",
     "text": [
      "                 :-) GROMACS - gmx grompp, 2022-conda_forge (-:\n",
      "\n",
      "Executable:   /home/mirgow/anaconda3/envs/md-intro-tutorial/bin.AVX2_256/gmx\n",
      "Data prefix:  /home/mirgow/anaconda3/envs/md-intro-tutorial\n",
      "Working dir:  /mnt/c/Users/cyber/Documents/Gromacs/atomistic/Newaim/leuM/sim_70_3\n",
      "Command line:\n",
      "  gmx grompp -maxwarn 1 -f ../../MDP_temp_70.mdp -c ../leuM.28964.pdb.gro -p ../leuM.28964.pdb.top -o leuM_temp_70.tpr\n",
      "\n",
      "Ignoring obsolete mdp entry 'ns_type'\n",
      "Replacing old mdp entry 'nstxtcout' by 'nstxout-compressed'\n",
      "Replacing old mdp entry 'xtc_grps' by 'compressed-x-grps'\n",
      "\n",
      "WARNING 1 [file ../../MDP_temp_70.mdp]:\n",
      "  Removing the rotation around the center of mass in a periodic system,\n",
      "  this can lead to artifacts. Only use this on a single (cluster of)\n",
      "  molecules. This cluster should not cross periodic boundaries.\n",
      "\n",
      "Setting the LD random seed to 1341429759\n",
      "\n",
      "Generated 378 of the 378 non-bonded parameter combinations\n",
      "\n",
      "Excluding 3 bonded neighbours molecule type 'Macromolecule'\n",
      "\n",
      "Setting gen_seed to -671615300\n",
      "\n",
      "Velocities were taken from a Maxwell distribution at 70 K\n",
      "Analysing residue names:\n",
      "There are:    75        RNA residues\n",
      "Number of degrees of freedom in T-Coupling group System is 4755.00\n",
      "\n",
      "Determining Verlet buffer for a tolerance of 0.005 kJ/mol/ps at 70 K\n",
      "\n",
      "Calculated rlist for 1x1 atom pair-list as 1.500 nm, buffer size 0.000 nm\n",
      "\n",
      "Set rlist, assuming 4x4 atom pair-list, to 1.500 nm, buffer size 0.000 nm\n",
      "\n",
      "Note that mdrun will redetermine rlist based on the actual pair-list setup\n",
      "\n",
      "This run will generate roughly 116 Mb of data\n",
      "\n",
      "There was 1 warning\n",
      "\n",
      "GROMACS reminds you: \"Every revolutionary idea seems to evoke three stages of reaction. They may be summed up by the phrases: (1) It's completely impossible. (2) It's possible, but not worth doing. (3) I said it was a good idea all along.\" (Arthur C. Clarke)\n",
      "\n",
      "                 :-) GROMACS - gmx mdrun, 2022-conda_forge (-:\n",
      "\n",
      "Executable:   /home/mirgow/anaconda3/envs/md-intro-tutorial/bin.AVX2_256/gmx\n",
      "Data prefix:  /home/mirgow/anaconda3/envs/md-intro-tutorial\n",
      "Working dir:  /mnt/c/Users/cyber/Documents/Gromacs/atomistic/Newaim/leuM/sim_70_3\n",
      "Command line:\n",
      "  gmx mdrun -s leuM_temp_70.tpr\n",
      "\n",
      "Reading file leuM_temp_70.tpr, VERSION 2022-conda_forge (single precision)\n",
      "Changing nstlist from 20 to 100, rlist from 1.5 to 1.5\n",
      "\n",
      "Using 1 MPI thread\n",
      "Using 16 OpenMP threads \n",
      "\n",
      "starting mdrun 'Macromolecule'\n",
      "10000000 steps,   5000.0 ps.\n",
      "\n",
      "Writing final coordinates.\n",
      "\n",
      "               Core t (s)   Wall t (s)        (%)\n",
      "       Time:    25671.204     1604.452     1600.0\n",
      "                 (ns/day)    (hour/ns)\n",
      "Performance:      269.251        0.089\n",
      "\n",
      "GROMACS reminds you: \"Garbage Collecting...\" (GNU Emacs)\n",
      "\n"
     ]
    }
   ],
   "source": [
    "!gmx grompp -maxwarn 1 -f ../../scripts/MDP_temp_70.mdp -c ../leuM.28964.pdb.gro -p ../leuM.28964.pdb.top -o leuM_temp_70.tpr\n",
    "!gmx mdrun -s leuM_temp_70.tpr"
   ]
  },
  {
   "cell_type": "code",
   "execution_count": 56,
   "metadata": {},
   "outputs": [
    {
     "name": "stdout",
     "output_type": "stream",
     "text": [
      "/mnt/c/Users/cyber/Documents/Gromacs/atomistic/Newaim/met/sim_70_2\n"
     ]
    }
   ],
   "source": [
    "%cd ../../met/sim_70_2\n",
    "!ls"
   ]
  },
  {
   "cell_type": "code",
   "execution_count": 57,
   "metadata": {
    "scrolled": true
   },
   "outputs": [
    {
     "name": "stdout",
     "output_type": "stream",
     "text": [
      "                 :-) GROMACS - gmx grompp, 2022-conda_forge (-:\n",
      "\n",
      "Executable:   /home/mirgow/anaconda3/envs/md-intro-tutorial/bin.AVX2_256/gmx\n",
      "Data prefix:  /home/mirgow/anaconda3/envs/md-intro-tutorial\n",
      "Working dir:  /mnt/c/Users/cyber/Documents/Gromacs/atomistic/Newaim/met/sim_70_2\n",
      "Command line:\n",
      "  gmx grompp -maxwarn 1 -f ../../MDP_temp_70.mdp -c ../met.28956.pdb.gro -p ../met.28956.pdb.top -o met_temp_70.tpr\n",
      "\n",
      "Ignoring obsolete mdp entry 'ns_type'\n",
      "Replacing old mdp entry 'nstxtcout' by 'nstxout-compressed'\n",
      "Replacing old mdp entry 'xtc_grps' by 'compressed-x-grps'\n",
      "\n",
      "WARNING 1 [file ../../MDP_temp_70.mdp]:\n",
      "  Removing the rotation around the center of mass in a periodic system,\n",
      "  this can lead to artifacts. Only use this on a single (cluster of)\n",
      "  molecules. This cluster should not cross periodic boundaries.\n",
      "\n",
      "Setting the LD random seed to 1572806591\n",
      "\n",
      "Generated 378 of the 378 non-bonded parameter combinations\n",
      "\n",
      "Excluding 3 bonded neighbours molecule type 'Macromolecule'\n",
      "\n",
      "Setting gen_seed to -1250168902\n",
      "\n",
      "Velocities were taken from a Maxwell distribution at 70 K\n",
      "Analysing residue names:\n",
      "There are:    70        RNA residues\n",
      "Number of degrees of freedom in T-Coupling group System is 4422.00\n",
      "\n",
      "Determining Verlet buffer for a tolerance of 0.005 kJ/mol/ps at 70 K\n",
      "\n",
      "Calculated rlist for 1x1 atom pair-list as 1.500 nm, buffer size 0.000 nm\n",
      "\n",
      "Set rlist, assuming 4x4 atom pair-list, to 1.500 nm, buffer size 0.000 nm\n",
      "\n",
      "Note that mdrun will redetermine rlist based on the actual pair-list setup\n",
      "\n",
      "This run will generate roughly 111 Mb of data\n",
      "\n",
      "There was 1 warning\n",
      "\n",
      "GROMACS reminds you: \"Aber wenn der Quarterback kommt, um dir die Brille abzunehmen, sag ihm: Danke, die bleibt wo sie ist\" (Wir sind Helden)\n",
      "\n",
      "                 :-) GROMACS - gmx mdrun, 2022-conda_forge (-:\n",
      "\n",
      "Executable:   /home/mirgow/anaconda3/envs/md-intro-tutorial/bin.AVX2_256/gmx\n",
      "Data prefix:  /home/mirgow/anaconda3/envs/md-intro-tutorial\n",
      "Working dir:  /mnt/c/Users/cyber/Documents/Gromacs/atomistic/Newaim/met/sim_70_2\n",
      "Command line:\n",
      "  gmx mdrun -s met_temp_70.tpr\n",
      "\n",
      "Reading file met_temp_70.tpr, VERSION 2022-conda_forge (single precision)\n",
      "Changing nstlist from 20 to 100, rlist from 1.5 to 1.5\n",
      "\n",
      "Using 1 MPI thread\n",
      "Using 16 OpenMP threads \n",
      "\n",
      "starting mdrun 'Macromolecule'\n",
      "10000000 steps,   5000.0 ps.\n",
      "\n",
      "Writing final coordinates.\n",
      "\n",
      "               Core t (s)   Wall t (s)        (%)\n",
      "       Time:    33084.316     2067.771     1600.0\n",
      "                         34:27\n",
      "                 (ns/day)    (hour/ns)\n",
      "Performance:      208.921        0.115\n",
      "\n",
      "GROMACS reminds you: \"Gabba Gabba Hey!\" (The Ramones)\n",
      "\n"
     ]
    }
   ],
   "source": [
    "!gmx grompp -maxwarn 1 -f ../../scripts/MDP_temp_70.mdp -c ../met.28956.pdb.gro -p ../met.28956.pdb.top -o met_temp_70.tpr\n",
    "!gmx mdrun -s met_temp_70.tpr"
   ]
  },
  {
   "cell_type": "code",
   "execution_count": 58,
   "metadata": {},
   "outputs": [
    {
     "name": "stdout",
     "output_type": "stream",
     "text": [
      "/mnt/c/Users/cyber/Documents/Gromacs/atomistic/Newaim/met/sim_70_3\n"
     ]
    }
   ],
   "source": [
    "%cd ../../met/sim_70_3\n",
    "!ls"
   ]
  },
  {
   "cell_type": "code",
   "execution_count": 59,
   "metadata": {
    "collapsed": true
   },
   "outputs": [
    {
     "name": "stdout",
     "output_type": "stream",
     "text": [
      "                 :-) GROMACS - gmx grompp, 2022-conda_forge (-:\n",
      "\n",
      "Executable:   /home/mirgow/anaconda3/envs/md-intro-tutorial/bin.AVX2_256/gmx\n",
      "Data prefix:  /home/mirgow/anaconda3/envs/md-intro-tutorial\n",
      "Working dir:  /mnt/c/Users/cyber/Documents/Gromacs/atomistic/Newaim/met/sim_70_3\n",
      "Command line:\n",
      "  gmx grompp -maxwarn 1 -f ../../MDP_temp_70.mdp -c ../met.28956.pdb.gro -p ../met.28956.pdb.top -o met_temp_70.tpr\n",
      "\n",
      "Ignoring obsolete mdp entry 'ns_type'\n",
      "Replacing old mdp entry 'nstxtcout' by 'nstxout-compressed'\n",
      "Replacing old mdp entry 'xtc_grps' by 'compressed-x-grps'\n",
      "\n",
      "WARNING 1 [file ../../MDP_temp_70.mdp]:\n",
      "  Removing the rotation around the center of mass in a periodic system,\n",
      "  this can lead to artifacts. Only use this on a single (cluster of)\n",
      "  molecules. This cluster should not cross periodic boundaries.\n",
      "\n",
      "Setting the LD random seed to -88246338\n",
      "\n",
      "Generated 378 of the 378 non-bonded parameter combinations\n",
      "\n",
      "Excluding 3 bonded neighbours molecule type 'Macromolecule'\n",
      "\n",
      "Setting gen_seed to -1074825890\n",
      "\n",
      "Velocities were taken from a Maxwell distribution at 70 K\n",
      "Analysing residue names:\n",
      "There are:    70        RNA residues\n",
      "Number of degrees of freedom in T-Coupling group System is 4422.00\n",
      "\n",
      "Determining Verlet buffer for a tolerance of 0.005 kJ/mol/ps at 70 K\n",
      "\n",
      "Calculated rlist for 1x1 atom pair-list as 1.500 nm, buffer size 0.000 nm\n",
      "\n",
      "Set rlist, assuming 4x4 atom pair-list, to 1.500 nm, buffer size 0.000 nm\n",
      "\n",
      "Note that mdrun will redetermine rlist based on the actual pair-list setup\n",
      "\n",
      "This run will generate roughly 111 Mb of data\n",
      "\n",
      "There was 1 warning\n",
      "\n",
      "GROMACS reminds you: \"Gabba Gabba Hey!\" (The Ramones)\n",
      "\n",
      "                 :-) GROMACS - gmx mdrun, 2022-conda_forge (-:\n",
      "\n",
      "Executable:   /home/mirgow/anaconda3/envs/md-intro-tutorial/bin.AVX2_256/gmx\n",
      "Data prefix:  /home/mirgow/anaconda3/envs/md-intro-tutorial\n",
      "Working dir:  /mnt/c/Users/cyber/Documents/Gromacs/atomistic/Newaim/met/sim_70_3\n",
      "Command line:\n",
      "  gmx mdrun -s met_temp_70.tpr\n",
      "\n",
      "Reading file met_temp_70.tpr, VERSION 2022-conda_forge (single precision)\n",
      "Changing nstlist from 20 to 100, rlist from 1.5 to 1.5\n",
      "\n",
      "Using 1 MPI thread\n",
      "Using 16 OpenMP threads \n",
      "\n",
      "starting mdrun 'Macromolecule'\n",
      "10000000 steps,   5000.0 ps.\n",
      "\n",
      "Writing final coordinates.\n",
      "\n",
      "               Core t (s)   Wall t (s)        (%)\n",
      "       Time:    33347.368     2084.212     1600.0\n",
      "                         34:44\n",
      "                 (ns/day)    (hour/ns)\n",
      "Performance:      207.273        0.116\n",
      "\n",
      "GROMACS reminds you: \"It seemed a good idea at first\" (Gerrit Groenhof)\n",
      "\n"
     ]
    }
   ],
   "source": [
    "!gmx grompp -maxwarn 1 -f ../../scripts/MDP_temp_70.mdp -c ../met.28956.pdb.gro -p ../met.28956.pdb.top -o met_temp_70.tpr\n",
    "!gmx mdrun -s met_temp_70.tpr"
   ]
  },
  {
   "cell_type": "code",
   "execution_count": null,
   "metadata": {},
   "outputs": [],
   "source": []
  },
  {
   "cell_type": "code",
   "execution_count": 38,
   "metadata": {},
   "outputs": [
    {
     "name": "stdout",
     "output_type": "stream",
     "text": [
      "/mnt/c/Users/cyber/Documents/Gromacs/atomistic/Newaim/lys/sim_70\n",
      "confout.gro  lys_temp_70.tpr  mdout.mdp  state_prev.cpt  traj_comp.xtc\r\n",
      "ener.edr     md.log\t      state.cpt  traj.trr\r\n"
     ]
    }
   ],
   "source": [
    "%cd ../../lys/sim_70/\n",
    "!ls"
   ]
  },
  {
   "cell_type": "code",
   "execution_count": 29,
   "metadata": {
    "collapsed": true
   },
   "outputs": [
    {
     "name": "stdout",
     "output_type": "stream",
     "text": [
      "                 :-) GROMACS - gmx grompp, 2022-conda_forge (-:\n",
      "\n",
      "Executable:   /home/mirgow/anaconda3/envs/md-intro-tutorial/bin.AVX2_256/gmx\n",
      "Data prefix:  /home/mirgow/anaconda3/envs/md-intro-tutorial\n",
      "Working dir:  /mnt/c/Users/cyber/Documents/Gromacs/atomistic/Newaim/lys/sim_70\n",
      "Command line:\n",
      "  gmx grompp -maxwarn 1 -f ../../MDP_temp_70.mdp -c ../lys.28958.pdb.gro -p ../lys.28958.pdb.top -o lys_temp_70.tpr\n",
      "\n",
      "Ignoring obsolete mdp entry 'ns_type'\n",
      "Replacing old mdp entry 'nstxtcout' by 'nstxout-compressed'\n",
      "Replacing old mdp entry 'xtc_grps' by 'compressed-x-grps'\n",
      "\n",
      "WARNING 1 [file ../../MDP_temp_70.mdp]:\n",
      "  Removing the rotation around the center of mass in a periodic system,\n",
      "  this can lead to artifacts. Only use this on a single (cluster of)\n",
      "  molecules. This cluster should not cross periodic boundaries.\n",
      "\n",
      "Setting the LD random seed to -318882838\n",
      "\n",
      "Generated 378 of the 378 non-bonded parameter combinations\n",
      "\n",
      "Excluding 3 bonded neighbours molecule type 'Macromolecule'\n",
      "\n",
      "Setting gen_seed to -2013400241\n",
      "\n",
      "Velocities were taken from a Maxwell distribution at 70 K\n",
      "Analysing residue names:\n",
      "There are:    70        RNA residues\n",
      "Number of degrees of freedom in T-Coupling group System is 4428.00\n",
      "\n",
      "Determining Verlet buffer for a tolerance of 0.005 kJ/mol/ps at 70 K\n",
      "\n",
      "Calculated rlist for 1x1 atom pair-list as 1.500 nm, buffer size 0.000 nm\n",
      "\n",
      "Set rlist, assuming 4x4 atom pair-list, to 1.500 nm, buffer size 0.000 nm\n",
      "\n",
      "Note that mdrun will redetermine rlist based on the actual pair-list setup\n",
      "\n",
      "This run will generate roughly 111 Mb of data\n",
      "\n",
      "There was 1 warning\n",
      "\n",
      "GROMACS reminds you: \"I didn't know what MD was. I think I've managed to catch up.\" (Berk Hess)\n",
      "\n",
      "                 :-) GROMACS - gmx mdrun, 2022-conda_forge (-:\n",
      "\n",
      "Executable:   /home/mirgow/anaconda3/envs/md-intro-tutorial/bin.AVX2_256/gmx\n",
      "Data prefix:  /home/mirgow/anaconda3/envs/md-intro-tutorial\n",
      "Working dir:  /mnt/c/Users/cyber/Documents/Gromacs/atomistic/Newaim/lys/sim_70\n",
      "Command line:\n",
      "  gmx mdrun -s lys_temp_70.tpr\n",
      "\n",
      "Reading file lys_temp_70.tpr, VERSION 2022-conda_forge (single precision)\n",
      "Changing nstlist from 20 to 100, rlist from 1.5 to 1.5\n",
      "\n",
      "Using 1 MPI thread\n",
      "Using 16 OpenMP threads \n",
      "\n",
      "starting mdrun 'Macromolecule'\n",
      "10000000 steps,   5000.0 ps.\n",
      "\n",
      "Writing final coordinates.\n",
      "\n",
      "               Core t (s)   Wall t (s)        (%)\n",
      "       Time:    28592.380     1787.025     1600.0\n",
      "                 (ns/day)    (hour/ns)\n",
      "Performance:      241.743        0.099\n",
      "\n",
      "GROMACS reminds you: \"I Had So Many Problem, and Then I Got Me a Walkman\" (F. Black)\n",
      "\n"
     ]
    }
   ],
   "source": [
    "!gmx grompp -maxwarn 1 -f ../../scripts/MDP_temp_70.mdp -c ../lys.28958.pdb.gro -p ../lys.28958.pdb.top -o lys_temp_70.tpr\n",
    "!gmx mdrun -s lys_temp_70.tpr"
   ]
  },
  {
   "cell_type": "code",
   "execution_count": 40,
   "metadata": {},
   "outputs": [
    {
     "name": "stdout",
     "output_type": "stream",
     "text": [
      "/mnt/c/Users/cyber/Documents/Gromacs/atomistic/Newaim/lysM/sim_70\n",
      "confout.gro  lysM_temp_70.tpr  mdout.mdp  state_prev.cpt  traj_comp.xtc\r\n",
      "ener.edr     md.log\t       state.cpt  traj.trr\r\n"
     ]
    }
   ],
   "source": [
    "%cd ../../lysM/sim_70/\n",
    "!ls"
   ]
  },
  {
   "cell_type": "code",
   "execution_count": 31,
   "metadata": {
    "collapsed": true
   },
   "outputs": [
    {
     "name": "stdout",
     "output_type": "stream",
     "text": [
      "                 :-) GROMACS - gmx grompp, 2022-conda_forge (-:\n",
      "\n",
      "Executable:   /home/mirgow/anaconda3/envs/md-intro-tutorial/bin.AVX2_256/gmx\n",
      "Data prefix:  /home/mirgow/anaconda3/envs/md-intro-tutorial\n",
      "Working dir:  /mnt/c/Users/cyber/Documents/Gromacs/atomistic/Newaim/lysM/sim_70\n",
      "Command line:\n",
      "  gmx grompp -maxwarn 1 -f ../../MDP_temp_70.mdp -c ../lysM.28957.pdb.gro -p ../lysM.28957.pdb.top -o lysM_temp_70.tpr\n",
      "\n",
      "Ignoring obsolete mdp entry 'ns_type'\n",
      "Replacing old mdp entry 'nstxtcout' by 'nstxout-compressed'\n",
      "Replacing old mdp entry 'xtc_grps' by 'compressed-x-grps'\n",
      "\n",
      "WARNING 1 [file ../../MDP_temp_70.mdp]:\n",
      "  Removing the rotation around the center of mass in a periodic system,\n",
      "  this can lead to artifacts. Only use this on a single (cluster of)\n",
      "  molecules. This cluster should not cross periodic boundaries.\n",
      "\n",
      "Setting the LD random seed to -335676481\n",
      "\n",
      "Generated 378 of the 378 non-bonded parameter combinations\n",
      "\n",
      "Excluding 3 bonded neighbours molecule type 'Macromolecule'\n",
      "\n",
      "Setting gen_seed to -34082849\n",
      "\n",
      "Velocities were taken from a Maxwell distribution at 70 K\n",
      "Analysing residue names:\n",
      "There are:    70        RNA residues\n",
      "Number of degrees of freedom in T-Coupling group System is 4431.00\n",
      "\n",
      "Determining Verlet buffer for a tolerance of 0.005 kJ/mol/ps at 70 K\n",
      "\n",
      "Calculated rlist for 1x1 atom pair-list as 1.500 nm, buffer size 0.000 nm\n",
      "\n",
      "Set rlist, assuming 4x4 atom pair-list, to 1.500 nm, buffer size 0.000 nm\n",
      "\n",
      "Note that mdrun will redetermine rlist based on the actual pair-list setup\n",
      "\n",
      "This run will generate roughly 111 Mb of data\n",
      "\n",
      "There was 1 warning\n",
      "\n",
      "GROMACS reminds you: \"I Had So Many Problem, and Then I Got Me a Walkman\" (F. Black)\n",
      "\n",
      "                 :-) GROMACS - gmx mdrun, 2022-conda_forge (-:\n",
      "\n",
      "Executable:   /home/mirgow/anaconda3/envs/md-intro-tutorial/bin.AVX2_256/gmx\n",
      "Data prefix:  /home/mirgow/anaconda3/envs/md-intro-tutorial\n",
      "Working dir:  /mnt/c/Users/cyber/Documents/Gromacs/atomistic/Newaim/lysM/sim_70\n",
      "Command line:\n",
      "  gmx mdrun -s lysM_temp_70.tpr\n",
      "\n",
      "Reading file lysM_temp_70.tpr, VERSION 2022-conda_forge (single precision)\n",
      "Changing nstlist from 20 to 100, rlist from 1.5 to 1.5\n",
      "\n",
      "Using 1 MPI thread\n",
      "Using 16 OpenMP threads \n",
      "\n",
      "starting mdrun 'Macromolecule'\n",
      "10000000 steps,   5000.0 ps.\n",
      "\n",
      "Writing final coordinates.\n",
      "\n",
      "               Core t (s)   Wall t (s)        (%)\n",
      "       Time:    29007.311     1812.958     1600.0\n",
      "                         30:12\n",
      "                 (ns/day)    (hour/ns)\n",
      "Performance:      238.285        0.101\n",
      "\n",
      "GROMACS reminds you: \"Philosophy of science is about as useful to scientists as ornithology is to birds.\" (Richard Feynman)\n",
      "\n"
     ]
    }
   ],
   "source": [
    "!gmx grompp -maxwarn 1 -f ../../scripts/MDP_temp_70.mdp -c ../lysM.28957.pdb.gro -p ../lysM.28957.pdb.top -o lysM_temp_70.tpr\n",
    "!gmx mdrun -s lysM_temp_70.tpr"
   ]
  },
  {
   "cell_type": "code",
   "execution_count": 60,
   "metadata": {},
   "outputs": [
    {
     "name": "stdout",
     "output_type": "stream",
     "text": [
      "/mnt/c/Users/cyber/Documents/Gromacs/atomistic/Newaim/lys/sim_70_2\n"
     ]
    }
   ],
   "source": [
    "%cd ../../lys/sim_70_2/\n",
    "!ls"
   ]
  },
  {
   "cell_type": "code",
   "execution_count": 61,
   "metadata": {
    "scrolled": true
   },
   "outputs": [
    {
     "name": "stdout",
     "output_type": "stream",
     "text": [
      "                 :-) GROMACS - gmx grompp, 2022-conda_forge (-:\n",
      "\n",
      "Executable:   /home/mirgow/anaconda3/envs/md-intro-tutorial/bin.AVX2_256/gmx\n",
      "Data prefix:  /home/mirgow/anaconda3/envs/md-intro-tutorial\n",
      "Working dir:  /mnt/c/Users/cyber/Documents/Gromacs/atomistic/Newaim/lys/sim_70_2\n",
      "Command line:\n",
      "  gmx grompp -maxwarn 1 -f ../../MDP_temp_70.mdp -c ../lys.28958.pdb.gro -p ../lys.28958.pdb.top -o lys_temp_70.tpr\n",
      "\n",
      "Ignoring obsolete mdp entry 'ns_type'\n",
      "Replacing old mdp entry 'nstxtcout' by 'nstxout-compressed'\n",
      "Replacing old mdp entry 'xtc_grps' by 'compressed-x-grps'\n",
      "\n",
      "WARNING 1 [file ../../MDP_temp_70.mdp]:\n",
      "  Removing the rotation around the center of mass in a periodic system,\n",
      "  this can lead to artifacts. Only use this on a single (cluster of)\n",
      "  molecules. This cluster should not cross periodic boundaries.\n",
      "\n",
      "Setting the LD random seed to -751851573\n",
      "\n",
      "Generated 378 of the 378 non-bonded parameter combinations\n",
      "\n",
      "Excluding 3 bonded neighbours molecule type 'Macromolecule'\n",
      "\n",
      "Setting gen_seed to 1003645695\n",
      "\n",
      "Velocities were taken from a Maxwell distribution at 70 K\n",
      "Analysing residue names:\n",
      "There are:    70        RNA residues\n",
      "Number of degrees of freedom in T-Coupling group System is 4428.00\n",
      "\n",
      "Determining Verlet buffer for a tolerance of 0.005 kJ/mol/ps at 70 K\n",
      "\n",
      "Calculated rlist for 1x1 atom pair-list as 1.500 nm, buffer size 0.000 nm\n",
      "\n",
      "Set rlist, assuming 4x4 atom pair-list, to 1.500 nm, buffer size 0.000 nm\n",
      "\n",
      "Note that mdrun will redetermine rlist based on the actual pair-list setup\n",
      "\n",
      "This run will generate roughly 111 Mb of data\n",
      "\n",
      "There was 1 warning\n",
      "\n",
      "GROMACS reminds you: \"For a research worker the unforgotten moments of his life are those rare ones which come after years of plodding work, when the veil over natures secret seems suddenly to lift & when what was dark & chaotic appears in a clear & beautiful light & pattern.\" (Gerty Cori)\n",
      "\n",
      "                 :-) GROMACS - gmx mdrun, 2022-conda_forge (-:\n",
      "\n",
      "Executable:   /home/mirgow/anaconda3/envs/md-intro-tutorial/bin.AVX2_256/gmx\n",
      "Data prefix:  /home/mirgow/anaconda3/envs/md-intro-tutorial\n",
      "Working dir:  /mnt/c/Users/cyber/Documents/Gromacs/atomistic/Newaim/lys/sim_70_2\n",
      "Command line:\n",
      "  gmx mdrun -s lys_temp_70.tpr\n",
      "\n",
      "Reading file lys_temp_70.tpr, VERSION 2022-conda_forge (single precision)\n",
      "Changing nstlist from 20 to 100, rlist from 1.5 to 1.5\n",
      "\n",
      "Using 1 MPI thread\n",
      "Using 16 OpenMP threads \n",
      "\n",
      "starting mdrun 'Macromolecule'\n",
      "10000000 steps,   5000.0 ps.\n",
      "\n",
      "Writing final coordinates.\n",
      "\n",
      "               Core t (s)   Wall t (s)        (%)\n",
      "       Time:    55530.200     3470.645     1600.0\n",
      "                         57:50\n",
      "                 (ns/day)    (hour/ns)\n",
      "Performance:      124.473        0.193\n",
      "\n",
      "GROMACS reminds you: \"What do you call an acid with an attitude? A-mean-oh acid.\" (Anonymous)\n",
      "\n"
     ]
    }
   ],
   "source": [
    "!gmx grompp -maxwarn 1 -f ../../scripts/MDP_temp_70.mdp -c ../lys.28958.pdb.gro -p ../lys.28958.pdb.top -o lys_temp_70.tpr\n",
    "!gmx mdrun -s lys_temp_70.tpr"
   ]
  },
  {
   "cell_type": "code",
   "execution_count": 62,
   "metadata": {},
   "outputs": [
    {
     "name": "stdout",
     "output_type": "stream",
     "text": [
      "/mnt/c/Users/cyber/Documents/Gromacs/atomistic/Newaim/lys/sim_70_3\n"
     ]
    }
   ],
   "source": [
    "%cd ../../lys/sim_70_3/\n",
    "!ls"
   ]
  },
  {
   "cell_type": "code",
   "execution_count": 63,
   "metadata": {
    "scrolled": true
   },
   "outputs": [
    {
     "name": "stdout",
     "output_type": "stream",
     "text": [
      "                 :-) GROMACS - gmx grompp, 2022-conda_forge (-:\n",
      "\n",
      "Executable:   /home/mirgow/anaconda3/envs/md-intro-tutorial/bin.AVX2_256/gmx\n",
      "Data prefix:  /home/mirgow/anaconda3/envs/md-intro-tutorial\n",
      "Working dir:  /mnt/c/Users/cyber/Documents/Gromacs/atomistic/Newaim/lys/sim_70_3\n",
      "Command line:\n",
      "  gmx grompp -maxwarn 1 -f ../../MDP_temp_70.mdp -c ../lys.28958.pdb.gro -p ../lys.28958.pdb.top -o lys_temp_70.tpr\n",
      "\n",
      "Ignoring obsolete mdp entry 'ns_type'\n",
      "Replacing old mdp entry 'nstxtcout' by 'nstxout-compressed'\n",
      "Replacing old mdp entry 'xtc_grps' by 'compressed-x-grps'\n",
      "\n",
      "WARNING 1 [file ../../MDP_temp_70.mdp]:\n",
      "  Removing the rotation around the center of mass in a periodic system,\n",
      "  this can lead to artifacts. Only use this on a single (cluster of)\n",
      "  molecules. This cluster should not cross periodic boundaries.\n",
      "\n",
      "Setting the LD random seed to -1114818\n",
      "\n",
      "Generated 378 of the 378 non-bonded parameter combinations\n",
      "\n",
      "Excluding 3 bonded neighbours molecule type 'Macromolecule'\n",
      "\n",
      "Setting gen_seed to -656513\n",
      "\n",
      "Velocities were taken from a Maxwell distribution at 70 K\n",
      "Analysing residue names:\n",
      "There are:    70        RNA residues\n",
      "Number of degrees of freedom in T-Coupling group System is 4428.00\n",
      "\n",
      "Determining Verlet buffer for a tolerance of 0.005 kJ/mol/ps at 70 K\n",
      "\n",
      "Calculated rlist for 1x1 atom pair-list as 1.500 nm, buffer size 0.000 nm\n",
      "\n",
      "Set rlist, assuming 4x4 atom pair-list, to 1.500 nm, buffer size 0.000 nm\n",
      "\n",
      "Note that mdrun will redetermine rlist based on the actual pair-list setup\n",
      "\n",
      "This run will generate roughly 111 Mb of data\n",
      "\n",
      "There was 1 warning\n",
      "\n",
      "GROMACS reminds you: \"Hey, it's me - Pandora. Welcome to my new unboxing video!\" (Anonymous)\n",
      "\n",
      "                 :-) GROMACS - gmx mdrun, 2022-conda_forge (-:\n",
      "\n",
      "Executable:   /home/mirgow/anaconda3/envs/md-intro-tutorial/bin.AVX2_256/gmx\n",
      "Data prefix:  /home/mirgow/anaconda3/envs/md-intro-tutorial\n",
      "Working dir:  /mnt/c/Users/cyber/Documents/Gromacs/atomistic/Newaim/lys/sim_70_3\n",
      "Command line:\n",
      "  gmx mdrun -s lys_temp_70.tpr\n",
      "\n",
      "Reading file lys_temp_70.tpr, VERSION 2022-conda_forge (single precision)\n",
      "Changing nstlist from 20 to 100, rlist from 1.5 to 1.5\n",
      "\n",
      "Using 1 MPI thread\n",
      "Using 16 OpenMP threads \n",
      "\n",
      "starting mdrun 'Macromolecule'\n",
      "10000000 steps,   5000.0 ps.\n",
      "\n",
      "Writing final coordinates.\n",
      "\n",
      "               Core t (s)   Wall t (s)        (%)\n",
      "       Time:    30687.264     1917.956     1600.0\n",
      "                         31:57\n",
      "                 (ns/day)    (hour/ns)\n",
      "Performance:      225.240        0.107\n",
      "\n",
      "GROMACS reminds you: \"I managed to get two hours of work done before work\" (E. Lindahl)\n",
      "\n"
     ]
    }
   ],
   "source": [
    "!gmx grompp -maxwarn 1 -f ../../scripts/MDP_temp_70.mdp -c ../lys.28958.pdb.gro -p ../lys.28958.pdb.top -o lys_temp_70.tpr\n",
    "!gmx mdrun -s lys_temp_70.tpr"
   ]
  },
  {
   "cell_type": "code",
   "execution_count": 64,
   "metadata": {},
   "outputs": [
    {
     "name": "stdout",
     "output_type": "stream",
     "text": [
      "/mnt/c/Users/cyber/Documents/Gromacs/atomistic/Newaim/lysM/sim_70_2\n"
     ]
    }
   ],
   "source": [
    "%cd ../../lysM/sim_70_2/\n",
    "!ls"
   ]
  },
  {
   "cell_type": "code",
   "execution_count": 65,
   "metadata": {
    "scrolled": true
   },
   "outputs": [
    {
     "name": "stdout",
     "output_type": "stream",
     "text": [
      "                 :-) GROMACS - gmx grompp, 2022-conda_forge (-:\n",
      "\n",
      "Executable:   /home/mirgow/anaconda3/envs/md-intro-tutorial/bin.AVX2_256/gmx\n",
      "Data prefix:  /home/mirgow/anaconda3/envs/md-intro-tutorial\n",
      "Working dir:  /mnt/c/Users/cyber/Documents/Gromacs/atomistic/Newaim/lysM/sim_70_2\n",
      "Command line:\n",
      "  gmx grompp -maxwarn 1 -f ../../MDP_temp_70.mdp -c ../lysM.28957.pdb.gro -p ../lysM.28957.pdb.top -o lysM_temp_70.tpr\n",
      "\n",
      "Ignoring obsolete mdp entry 'ns_type'\n",
      "Replacing old mdp entry 'nstxtcout' by 'nstxout-compressed'\n",
      "Replacing old mdp entry 'xtc_grps' by 'compressed-x-grps'\n",
      "\n",
      "WARNING 1 [file ../../MDP_temp_70.mdp]:\n",
      "  Removing the rotation around the center of mass in a periodic system,\n",
      "  this can lead to artifacts. Only use this on a single (cluster of)\n",
      "  molecules. This cluster should not cross periodic boundaries.\n",
      "\n",
      "Setting the LD random seed to -375669329\n",
      "\n",
      "Generated 378 of the 378 non-bonded parameter combinations\n",
      "\n",
      "Excluding 3 bonded neighbours molecule type 'Macromolecule'\n",
      "\n",
      "Setting gen_seed to 2013216718\n",
      "\n",
      "Velocities were taken from a Maxwell distribution at 70 K\n",
      "Analysing residue names:\n",
      "There are:    70        RNA residues\n",
      "Number of degrees of freedom in T-Coupling group System is 4431.00\n",
      "\n",
      "Determining Verlet buffer for a tolerance of 0.005 kJ/mol/ps at 70 K\n",
      "\n",
      "Calculated rlist for 1x1 atom pair-list as 1.500 nm, buffer size 0.000 nm\n",
      "\n",
      "Set rlist, assuming 4x4 atom pair-list, to 1.500 nm, buffer size 0.000 nm\n",
      "\n",
      "Note that mdrun will redetermine rlist based on the actual pair-list setup\n",
      "\n",
      "This run will generate roughly 111 Mb of data\n",
      "\n",
      "There was 1 warning\n",
      "\n",
      "GROMACS reminds you: \"XML is not a language in the sense of a programming language any more than sketches on a napkin are a language.\" (Charles Simonyi)\n",
      "\n",
      "                 :-) GROMACS - gmx mdrun, 2022-conda_forge (-:\n",
      "\n",
      "Executable:   /home/mirgow/anaconda3/envs/md-intro-tutorial/bin.AVX2_256/gmx\n",
      "Data prefix:  /home/mirgow/anaconda3/envs/md-intro-tutorial\n",
      "Working dir:  /mnt/c/Users/cyber/Documents/Gromacs/atomistic/Newaim/lysM/sim_70_2\n",
      "Command line:\n",
      "  gmx mdrun -s lysM_temp_70.tpr\n",
      "\n",
      "Reading file lysM_temp_70.tpr, VERSION 2022-conda_forge (single precision)\n",
      "Changing nstlist from 20 to 100, rlist from 1.5 to 1.5\n",
      "\n",
      "Using 1 MPI thread\n",
      "Using 16 OpenMP threads \n",
      "\n",
      "starting mdrun 'Macromolecule'\n",
      "10000000 steps,   5000.0 ps.\n",
      "\n",
      "Writing final coordinates.\n",
      "\n",
      "               Core t (s)   Wall t (s)        (%)\n",
      "       Time:    37380.852     2336.305     1600.0\n",
      "                         38:56\n",
      "                 (ns/day)    (hour/ns)\n",
      "Performance:      184.907        0.130\n",
      "\n",
      "GROMACS reminds you: \"All models are wrong, but some are useful.\" (George Box)\n",
      "\n"
     ]
    }
   ],
   "source": [
    "!gmx grompp -maxwarn 1 -f ../../scripts/MDP_temp_70.mdp -c ../lysM.28957.pdb.gro -p ../lysM.28957.pdb.top -o lysM_temp_70.tpr\n",
    "!gmx mdrun -s lysM_temp_70.tpr"
   ]
  },
  {
   "cell_type": "code",
   "execution_count": 66,
   "metadata": {},
   "outputs": [
    {
     "name": "stdout",
     "output_type": "stream",
     "text": [
      "/mnt/c/Users/cyber/Documents/Gromacs/atomistic/Newaim/lysM/sim_70_3\n"
     ]
    }
   ],
   "source": [
    "%cd ../../lysM/sim_70_3/\n",
    "!ls"
   ]
  },
  {
   "cell_type": "code",
   "execution_count": 67,
   "metadata": {
    "collapsed": true
   },
   "outputs": [
    {
     "name": "stdout",
     "output_type": "stream",
     "text": [
      "                 :-) GROMACS - gmx grompp, 2022-conda_forge (-:\n",
      "\n",
      "Executable:   /home/mirgow/anaconda3/envs/md-intro-tutorial/bin.AVX2_256/gmx\n",
      "Data prefix:  /home/mirgow/anaconda3/envs/md-intro-tutorial\n",
      "Working dir:  /mnt/c/Users/cyber/Documents/Gromacs/atomistic/Newaim/lysM/sim_70_3\n",
      "Command line:\n",
      "  gmx grompp -maxwarn 1 -f ../../MDP_temp_70.mdp -c ../lysM.28957.pdb.gro -p ../lysM.28957.pdb.top -o lysM_temp_70.tpr\n",
      "\n",
      "Ignoring obsolete mdp entry 'ns_type'\n",
      "Replacing old mdp entry 'nstxtcout' by 'nstxout-compressed'\n",
      "Replacing old mdp entry 'xtc_grps' by 'compressed-x-grps'\n",
      "\n",
      "WARNING 1 [file ../../MDP_temp_70.mdp]:\n",
      "  Removing the rotation around the center of mass in a periodic system,\n",
      "  this can lead to artifacts. Only use this on a single (cluster of)\n",
      "  molecules. This cluster should not cross periodic boundaries.\n",
      "\n",
      "Setting the LD random seed to -1073939481\n",
      "\n",
      "Generated 378 of the 378 non-bonded parameter combinations\n",
      "\n",
      "Excluding 3 bonded neighbours molecule type 'Macromolecule'\n",
      "\n",
      "Setting gen_seed to -58720778\n",
      "\n",
      "Velocities were taken from a Maxwell distribution at 70 K\n",
      "Analysing residue names:\n",
      "There are:    70        RNA residues\n",
      "Number of degrees of freedom in T-Coupling group System is 4431.00\n",
      "\n",
      "Determining Verlet buffer for a tolerance of 0.005 kJ/mol/ps at 70 K\n",
      "\n",
      "Calculated rlist for 1x1 atom pair-list as 1.500 nm, buffer size 0.000 nm\n",
      "\n",
      "Set rlist, assuming 4x4 atom pair-list, to 1.500 nm, buffer size 0.000 nm\n",
      "\n",
      "Note that mdrun will redetermine rlist based on the actual pair-list setup\n",
      "\n",
      "This run will generate roughly 111 Mb of data\n",
      "\n",
      "There was 1 warning\n",
      "\n",
      "GROMACS reminds you: \"Can I have everything louder than everything else?\" (Deep Purple)\n",
      "\n",
      "                 :-) GROMACS - gmx mdrun, 2022-conda_forge (-:\n",
      "\n",
      "Executable:   /home/mirgow/anaconda3/envs/md-intro-tutorial/bin.AVX2_256/gmx\n",
      "Data prefix:  /home/mirgow/anaconda3/envs/md-intro-tutorial\n",
      "Working dir:  /mnt/c/Users/cyber/Documents/Gromacs/atomistic/Newaim/lysM/sim_70_3\n",
      "Command line:\n",
      "  gmx mdrun -s lysM_temp_70.tpr\n",
      "\n",
      "Reading file lysM_temp_70.tpr, VERSION 2022-conda_forge (single precision)\n",
      "Changing nstlist from 20 to 100, rlist from 1.5 to 1.5\n",
      "\n",
      "Using 1 MPI thread\n",
      "Using 16 OpenMP threads \n",
      "\n",
      "starting mdrun 'Macromolecule'\n",
      "10000000 steps,   5000.0 ps.\n",
      "\n",
      "Writing final coordinates.\n",
      "\n",
      "               Core t (s)   Wall t (s)        (%)\n",
      "       Time:    30088.431     1880.528     1600.0\n",
      "                         31:20\n",
      "                 (ns/day)    (hour/ns)\n",
      "Performance:      229.723        0.104\n",
      "\n",
      "GROMACS reminds you: \"As we all know, blinking lights means science.\" (Joss Whedon)\n",
      "\n"
     ]
    }
   ],
   "source": [
    "!gmx grompp -maxwarn 1 -f ../../scripts/MDP_temp_70.mdp -c ../lysM.28957.pdb.gro -p ../lysM.28957.pdb.top -o lysM_temp_70.tpr\n",
    "!gmx mdrun -s lysM_temp_70.tpr"
   ]
  },
  {
   "cell_type": "code",
   "execution_count": 41,
   "metadata": {
    "collapsed": true
   },
   "outputs": [
    {
     "name": "stdout",
     "output_type": "stream",
     "text": [
      "                :-) GROMACS - gmx trjconv, 2022-conda_forge (-:\n",
      "\n",
      "Executable:   /home/mirgow/anaconda3/envs/md-intro-tutorial/bin.AVX2_256/gmx\n",
      "Data prefix:  /home/mirgow/anaconda3/envs/md-intro-tutorial\n",
      "Working dir:  /mnt/c/Users/cyber/Documents/Gromacs/atomistic/Newaim/lysM/sim_70\n",
      "Command line:\n",
      "  gmx trjconv -s lysM_temp_70.tpr -f traj_comp.xtc -o tc_center.xtc -center -pbc mol\n",
      "\n",
      "Note that major changes are planned in future for trjconv, to improve usability and utility.\n",
      "Will write xtc: Compressed trajectory (portable xdr format): xtc\n",
      "Reading file lysM_temp_70.tpr, VERSION 2022-conda_forge (single precision)\n",
      "Reading file lysM_temp_70.tpr, VERSION 2022-conda_forge (single precision)\n",
      "Select group for centering\n",
      "Group     0 (         System) has  1479 elements\n",
      "Group     1 (            RNA) has  1479 elements\n",
      "Select a group: Selected 1: 'RNA'\n",
      "Select group for output\n",
      "Group     0 (         System) has  1479 elements\n",
      "Group     1 (            RNA) has  1479 elements\n",
      "Select a group: Selected 1: 'RNA'\n",
      "Reading frame       0 time    0.000   \n",
      "Precision of traj_comp.xtc is 0.001 (nm)\n",
      "Using output precision of 0.001 (nm)\n",
      "Last frame      10000 time 5000.000    ->  frame   9999 time 4999.500       ->  frame    599 time  299.500       ->  frame   8999 time 4499.500      \n",
      " ->  frame  10000 time 5000.000      \n",
      "Last written: frame  10000 time 5000.000\n",
      "\n",
      "\n",
      "GROMACS reminds you: \"Hmm, It *Does* Go Well With the Chicken\" (Beastie Boys)\n",
      "\n"
     ]
    }
   ],
   "source": [
    "!printf \"1\\n1\\n\" | gmx trjconv -s lysM_temp_70.tpr -f traj_comp.xtc -o tc_center.xtc -center -pbc mol"
   ]
  },
  {
   "cell_type": "code",
   "execution_count": null,
   "metadata": {},
   "outputs": [],
   "source": []
  },
  {
   "cell_type": "code",
   "execution_count": 45,
   "metadata": {},
   "outputs": [
    {
     "name": "stdout",
     "output_type": "stream",
     "text": [
      "/mnt/c/Users/cyber/Documents/Gromacs/atomistic/Newaim/met/sim_foldfrom130_60\n"
     ]
    }
   ],
   "source": [
    "%cd ../../met/sim_foldfrom130_60/\n",
    "!ls"
   ]
  },
  {
   "cell_type": "code",
   "execution_count": 47,
   "metadata": {
    "collapsed": true
   },
   "outputs": [
    {
     "name": "stdout",
     "output_type": "stream",
     "text": [
      "                 :-) GROMACS - gmx grompp, 2022-conda_forge (-:\n",
      "\n",
      "Executable:   /home/mirgow/anaconda3/envs/md-intro-tutorial/bin.AVX2_256/gmx\n",
      "Data prefix:  /home/mirgow/anaconda3/envs/md-intro-tutorial\n",
      "Working dir:  /mnt/c/Users/cyber/Documents/Gromacs/atomistic/Newaim/met/sim_foldfrom130_60\n",
      "Command line:\n",
      "  gmx grompp -maxwarn 1 -f ../../../MDP_temp_60.mdp -c ../sim_melt_130/confout.gro -p ../met.28956.pdb.top -o met_foldfrom130_60.tpr\n",
      "\n",
      "Ignoring obsolete mdp entry 'ns_type'\n",
      "Replacing old mdp entry 'nstxtcout' by 'nstxout-compressed'\n",
      "Replacing old mdp entry 'xtc_grps' by 'compressed-x-grps'\n",
      "\n",
      "WARNING 1 [file ../../../MDP_temp_60.mdp]:\n",
      "  Removing the rotation around the center of mass in a periodic system,\n",
      "  this can lead to artifacts. Only use this on a single (cluster of)\n",
      "  molecules. This cluster should not cross periodic boundaries.\n",
      "\n",
      "Setting the LD random seed to -1763082282\n",
      "\n",
      "Generated 378 of the 378 non-bonded parameter combinations\n",
      "\n",
      "Excluding 3 bonded neighbours molecule type 'Macromolecule'\n",
      "\n",
      "Setting gen_seed to -282849\n",
      "\n",
      "Velocities were taken from a Maxwell distribution at 60 K\n",
      "Analysing residue names:\n",
      "There are:    70        RNA residues\n",
      "Number of degrees of freedom in T-Coupling group System is 4422.00\n",
      "\n",
      "Determining Verlet buffer for a tolerance of 0.005 kJ/mol/ps at 60 K\n",
      "\n",
      "Calculated rlist for 1x1 atom pair-list as 1.500 nm, buffer size 0.000 nm\n",
      "\n",
      "Set rlist, assuming 4x4 atom pair-list, to 1.500 nm, buffer size 0.000 nm\n",
      "\n",
      "Note that mdrun will redetermine rlist based on the actual pair-list setup\n",
      "\n",
      "This run will generate roughly 111 Mb of data\n",
      "\n",
      "There was 1 warning\n",
      "\n",
      "GROMACS reminds you: \"Science may never come up with a better office communication system than the coffee break.\" (Earl Wilson)\n",
      "\n",
      "                 :-) GROMACS - gmx mdrun, 2022-conda_forge (-:\n",
      "\n",
      "Executable:   /home/mirgow/anaconda3/envs/md-intro-tutorial/bin.AVX2_256/gmx\n",
      "Data prefix:  /home/mirgow/anaconda3/envs/md-intro-tutorial\n",
      "Working dir:  /mnt/c/Users/cyber/Documents/Gromacs/atomistic/Newaim/met/sim_foldfrom130_60\n",
      "Command line:\n",
      "  gmx mdrun -s met_foldfrom130_60.tpr\n",
      "\n",
      "Reading file met_foldfrom130_60.tpr, VERSION 2022-conda_forge (single precision)\n",
      "Changing nstlist from 20 to 100, rlist from 1.5 to 1.5\n",
      "\n",
      "Using 1 MPI thread\n",
      "Using 16 OpenMP threads \n",
      "\n",
      "starting mdrun 'Macromolecule'\n",
      "10000000 steps,   5000.0 ps.\n",
      "\n",
      "Writing final coordinates.\n",
      "\n",
      "               Core t (s)   Wall t (s)        (%)\n",
      "       Time:   334025.745    20876.614     1600.0\n",
      "                         5h47:56\n",
      "                 (ns/day)    (hour/ns)\n",
      "Performance:       20.693        1.160\n",
      "\n",
      "GROMACS reminds you: \"By denying scientific principles, one may maintain any paradox.\" (Galileo Galilei)\n",
      "\n"
     ]
    }
   ],
   "source": [
    "!gmx grompp -maxwarn 1 -f ../../scripts/MDP_temp_70.mdp -c ../sim_melt_130/confout.gro -p ../met.28956.pdb.top -o met_foldfrom130_60.tpr\n",
    "!gmx mdrun -s met_foldfrom130_60.tpr"
   ]
  },
  {
   "cell_type": "code",
   "execution_count": null,
   "metadata": {},
   "outputs": [],
   "source": []
  },
  {
   "cell_type": "markdown",
   "metadata": {},
   "source": [
    "### Critical Post-Run Step: Periodicity Correction"
   ]
  },
  {
   "cell_type": "markdown",
   "metadata": {},
   "source": [
    "The trajectories from any of the simulations need be corrected and centered, due to there being inherent periodicity to the system boundaries.\n",
    "\n",
    "All analyses of the simulation take place on the CORRECTED trajectory, typically a modified .xtc file."
   ]
  },
  {
   "cell_type": "code",
   "execution_count": 6,
   "metadata": {
    "collapsed": true
   },
   "outputs": [
    {
     "name": "stdout",
     "output_type": "stream",
     "text": [
      "             :-) GROMACS - gmx trjconv, 2020.1-Ubuntu-2020.1-1 (-:\r\n",
      "\r\n",
      "                            GROMACS is written by:\r\n",
      "     Emile Apol      Rossen Apostolov      Paul Bauer     Herman J.C. Berendsen\r\n",
      "    Par Bjelkmar      Christian Blau   Viacheslav Bolnykh     Kevin Boyd    \r\n",
      " Aldert van Buuren   Rudi van Drunen     Anton Feenstra       Alan Gray     \r\n",
      "  Gerrit Groenhof     Anca Hamuraru    Vincent Hindriksen  M. Eric Irrgang  \r\n",
      "  Aleksei Iupinov   Christoph Junghans     Joe Jordan     Dimitrios Karkoulis\r\n",
      "    Peter Kasson        Jiri Kraus      Carsten Kutzner      Per Larsson    \r\n",
      "  Justin A. Lemkul    Viveca Lindahl    Magnus Lundborg     Erik Marklund   \r\n",
      "    Pascal Merz     Pieter Meulenhoff    Teemu Murtola       Szilard Pall   \r\n",
      "    Sander Pronk      Roland Schulz      Michael Shirts    Alexey Shvetsov  \r\n",
      "   Alfons Sijbers     Peter Tieleman      Jon Vincent      Teemu Virolainen \r\n",
      " Christian Wennberg    Maarten Wolf      Artem Zhmurov   \r\n",
      "                           and the project leaders:\r\n",
      "        Mark Abraham, Berk Hess, Erik Lindahl, and David van der Spoel\r\n",
      "\r\n",
      "Copyright (c) 1991-2000, University of Groningen, The Netherlands.\r\n",
      "Copyright (c) 2001-2019, The GROMACS development team at\r\n",
      "Uppsala University, Stockholm University and\r\n",
      "the Royal Institute of Technology, Sweden.\r\n",
      "check out http://www.gromacs.org for more information.\r\n",
      "\r\n",
      "GROMACS is free software; you can redistribute it and/or modify it\r\n",
      "under the terms of the GNU Lesser General Public License\r\n",
      "as published by the Free Software Foundation; either version 2.1\r\n",
      "of the License, or (at your option) any later version.\r\n",
      "\r\n",
      "GROMACS:      gmx trjconv, version 2020.1-Ubuntu-2020.1-1\r\n",
      "Executable:   /usr/bin/gmx\r\n",
      "Data prefix:  /usr\r\n",
      "Working dir:  /mnt/c/Users/cyber/Documents/Gromacs/atomistic/Newaim/val/sim\r\n",
      "Command line:\r\n",
      "  gmx trjconv -s val_run.tpr -f traj_comp.xtc -o tc_center.xtc -center -pbc mol\r\n",
      "\r\n",
      "Note that major changes are planned in future for trjconv, to improve usability and utility.\r\n",
      "Will write xtc: Compressed trajectory (portable xdr format): xtc\r\n",
      "Reading file val_run.tpr, VERSION 2022-conda_forge (single precision)\r\n",
      "\r\n",
      "-------------------------------------------------------\r\n",
      "Program:     gmx trjconv, version 2020.1-Ubuntu-2020.1-1\r\n",
      "Source file: src/gromacs/fileio/tpxio.cpp (line 2708)\r\n",
      "\r\n",
      "Fatal error:\r\n",
      "reading tpx file (val_run.tpr) version 127 with version 119 program\r\n",
      "\r\n",
      "For more information and tips for troubleshooting, please check the GROMACS\r\n",
      "website at http://www.gromacs.org/Documentation/Errors\r\n",
      "-------------------------------------------------------\r\n"
     ]
    }
   ],
   "source": [
    "# Correcting the trajectory by accounting for an periodicity in the system\n",
    "\n",
    "!printf \"1\\n1\\n\" | gmx trjconv -s {filename}.tpr -f traj_comp.xtc -o tc_center.xtc -center -pbc mol"
   ]
  },
  {
   "cell_type": "code",
   "execution_count": null,
   "metadata": {},
   "outputs": [],
   "source": []
  }
 ],
 "metadata": {
  "kernelspec": {
   "display_name": "Python 3",
   "language": "python",
   "name": "python3"
  },
  "language_info": {
   "codemirror_mode": {
    "name": "ipython",
    "version": 3
   },
   "file_extension": ".py",
   "mimetype": "text/x-python",
   "name": "python",
   "nbconvert_exporter": "python",
   "pygments_lexer": "ipython3",
   "version": "3.8.3"
  }
 },
 "nbformat": 4,
 "nbformat_minor": 4
}
